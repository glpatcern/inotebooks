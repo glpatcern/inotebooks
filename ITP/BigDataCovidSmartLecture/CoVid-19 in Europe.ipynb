{
 "cells": [
  {
   "cell_type": "markdown",
   "metadata": {},
   "source": [
    "# CoVid-19 Pandemic Statistics\n",
    "\n",
    "Analysis of the CoVid-19 outbreak in Europe and comparison with _official_ data of the Hubei province, China\n",
    "\n",
    "Total population of European countries taken from https://en.wikipedia.org/wiki/List_of_sovereign_states_and_dependent_territories_in_Europe\n",
    "\n",
    "Credits: a good part of this analysis is taken from\n",
    "https://towardsdatascience.com/covid-19-infection-in-italy-mathematical-models-and-predictions-7784b4d7dd8d\n"
   ]
  },
  {
   "cell_type": "code",
   "execution_count": null,
   "metadata": {},
   "outputs": [],
   "source": [
    "from datetime import datetime,timedelta\n",
    "import pandas as pd\n",
    "import numpy as np\n",
    "from sklearn.metrics import mean_squared_error\n",
    "from scipy.optimize import curve_fit\n",
    "from scipy.optimize import fsolve\n",
    "import matplotlib.pyplot as plt\n",
    "%matplotlib notebook"
   ]
  },
  {
   "cell_type": "code",
   "execution_count": null,
   "metadata": {},
   "outputs": [],
   "source": [
    "# Total population of some European countries of interest (Millions)\n",
    "pop = {}\n",
    "pop['Italy'] = 60\n",
    "pop['France'] = 67\n",
    "pop['Switzerland'] = 8.5\n",
    "pop['Germany'] = 83\n",
    "pop['Spain'] = 48\n",
    "pop['Hubei'] = 58.5"
   ]
  },
  {
   "cell_type": "code",
   "execution_count": null,
   "metadata": {},
   "outputs": [],
   "source": [
    "# This is a Github repo with the official data from WHO\n",
    "url = 'https://raw.githubusercontent.com/CSSEGISandData/COVID-19/master/csse_covid_19_data/csse_covid_19_time_series/'\n",
    "\n",
    "# these are the main data frames\n",
    "df = pd.read_csv(url + 'time_series_19-covid-Confirmed.csv')\n",
    "#df = pd.read_csv(url + 'time_series_19-covid-Deaths.csv')\n",
    "#df = pd.read_csv(url + 'time_series_19-covid-Recovered.csv')\n",
    "df.head()"
   ]
  },
  {
   "cell_type": "code",
   "execution_count": null,
   "metadata": {},
   "outputs": [],
   "source": [
    "df.describe()"
   ]
  },
  {
   "cell_type": "code",
   "execution_count": null,
   "metadata": {
    "scrolled": true
   },
   "outputs": [],
   "source": [
    "### Some data manipulation\n",
    "\n",
    "# extract the countries of interest and prepare data\n",
    "countrydf = {}\n",
    "pop_no_Hubei = (set(pop.keys()) - {'Hubei'})\n",
    "for c in pop_no_Hubei:\n",
    "  # transpose + drop the first 4 fields (Prov, Country, Lat, Long)\n",
    "  # + rename x axis label -> 'date' and data label -> country name\n",
    "  countrydf[c] = df[df['Country/Region'] == c] \\\n",
    "                 .transpose()[4:] \\\n",
    "                 .reset_index() \\\n",
    "                 .rename(columns={'index': 'date', \\\n",
    "                                  df[df['Country/Region'] == c].index[0]: c})\n",
    "# The Hubei case is special...\n",
    "c = 'Hubei'\n",
    "countrydf[c] = df[df['Province/State'] == c] \\\n",
    "               .transpose()[4:] \\\n",
    "               .reset_index() \\\n",
    "               .rename(columns={'index': 'date', \\\n",
    "                                df[df['Province/State'] == c].index[0]: c})\n",
    "\n",
    "for c in pop:\n",
    "  # convert date to days since Feb 29th\n",
    "  countrydf[c]['date'] = countrydf[c]['date'].map(lambda d : \\\n",
    "        (datetime.strptime(d, '%m/%d/%y') - datetime.strptime('2020-02-29','%Y-%m-%d')).days)\n",
    "  # convert #cases to cases per 1M inhabitants\n",
    "  countrydf[c][c] /= pop[c]\n",
    "\n",
    "countrydf['Italy']"
   ]
  },
  {
   "cell_type": "code",
   "execution_count": null,
   "metadata": {
    "scrolled": true
   },
   "outputs": [],
   "source": [
    "plt.rcParams['figure.figsize'] = [18, 10]\n",
    "plt.rc('font', size=11)\n",
    "\n",
    "for c in pop_no_Hubei:\n",
    "  # drop first days' data as it's more noisy: keep points with value > 0.2 cases / 1M people\n",
    "  countrydf[c] = countrydf[c][countrydf[c].gt(0.2).any(axis=1)]\n",
    "\n",
    "  # get all data points\n",
    "  t = list(countrydf[c].iloc[:, 0]) \n",
    "  y = list(countrydf[c].iloc[:, 1])\n",
    "  plt.scatter(t, y, label=c)   # draw the dots\n",
    "  plt.plot(t, y)   # draw the lines\n",
    "\n",
    "plt.legend()\n",
    "plt.title(\"Confirmed cases per 1M inhabitants\")\n",
    "plt.xlabel(\"Days since Mar 2020\")\n",
    "plt.ylabel(\"Count\")\n",
    "plt.yscale('log')\n",
    "plt.grid(which='both')\n",
    "plt.show()"
   ]
  },
  {
   "cell_type": "markdown",
   "metadata": {},
   "source": [
    "# Models and curves fitting\n",
    "\n",
    "Now let's try to fit the data. How do we model such a growth?\n",
    "\n",
    "## Geometric or Exponential growth\n",
    "\n",
    "Many natural phenomena follow geometric or exponential evolutions. Examples:\n",
    "* Radioactive decay\n",
    "* Population growth (or virus spreading)\n",
    "\n",
    "WHY?\n",
    "\n",
    "Each time the delta effect (for example, the daily growth) is proportional to the entire set, the resulting evolution is a geometric or exponential sequence!\n",
    "\n",
    "Population growth:\n",
    "  $$\\Delta N(d) = N(d+1) - N(d) = k\\cdot N(d)$$\n",
    "  \n",
    "Radioactive decay (the negative sign accounts for the fact that the decayed atoms disappear from the total):\n",
    "  $$N_{decaying}(t) = \\Delta N(t) = N_{total}(t) - N_{total}(t-1) = - k\\cdot N_{total}(t)$$\n",
    "\n",
    "Solving the first:\n",
    "  $$N(d+1) = (k + 1)\\cdot N(d) = (k + 1)^{2}\\cdot N(d-1) = \\cdots = (k + 1)^{d}\\cdot N(0)$$\n",
    "\n",
    "It is a common convention in Math to express any exponential function in terms of the _e_ constant, by redefining the other factors:\n",
    "\n",
    "$$(k+1)^{d} = e^{d/\\tau}, \\quad \\tau \\equiv \\frac{1}{ln(k+1)}$$\n",
    "\n",
    "Therefore, a generic exponential function is:\n",
    "\n",
    "  $$f_{a,b,\\tau}(t) = a\\cdot e^{(t-b)/\\tau} \\quad a, b, \\tau \\; free \\; parameters$$\n",
    "\n",
    "Let's have a look at it with some plots."
   ]
  },
  {
   "cell_type": "code",
   "execution_count": null,
   "metadata": {},
   "outputs": [],
   "source": [
    "def exp_model(t, a, b, c):\n",
    "  return a*np.exp((t-b)/c)"
   ]
  },
  {
   "cell_type": "code",
   "execution_count": null,
   "metadata": {},
   "outputs": [],
   "source": [
    "t_range = list(range(-50, +50))\n",
    "plt.plot(t_range, [exp_model(i, 500, 0, 1.3) for i in t_range])\n",
    "plt.plot(t_range, [exp_model(i, 500, 0, -1.3) for i in t_range])\n",
    "\n",
    "plt.title(\"Exponential growth\")\n",
    "plt.xlabel(\"Days\")\n",
    "plt.ylabel(\"Count\")\n",
    "#plt.yscale('log')\n",
    "plt.grid(which='both')\n",
    "plt.show()"
   ]
  },
  {
   "cell_type": "markdown",
   "metadata": {},
   "source": [
    "## Back to our data\n",
    "\n",
    "Now let's try and fit our data with those functions, that is find the parameters for our functions that \"best\" match the given data points.\n",
    "\n",
    "WARNING: data fitting and model identification is a large and complex topic in Data Science and Statistics. Here the tools to perform some fits are shown to illustrate how easy it is to experiment with the data, but the scientist has to always challenge the model before reaching any conclusions!\n",
    "\n",
    "Paraphrasing Socrates (_Gnoti seauthon_, \"know yourself\"), know your data!"
   ]
  },
  {
   "cell_type": "code",
   "execution_count": null,
   "metadata": {},
   "outputs": [],
   "source": [
    "exp_fit = {}\n",
    "for c in pop:\n",
    "  t = list(countrydf[c].iloc[:,0])\n",
    "  y = list(countrydf[c].iloc[:,1])\n",
    "  try:\n",
    "    exp_fit[c] = curve_fit(exp_model, t, y, p0=[0.01, 0.5, 3])\n",
    "  except RuntimeError:\n",
    "    exp_fit[c] = None\n",
    "\n",
    "exp_fit     # parameters of the fit: note how many useless decimal digits. The Covariance Matrix is given as result (but not for Hubei?! hmmm....)"
   ]
  },
  {
   "cell_type": "code",
   "execution_count": null,
   "metadata": {},
   "outputs": [],
   "source": [
    "t_fit = list(range(-40, +30))\n",
    "\n",
    "for c in ('Italy', 'Switzerland', 'France', 'Hubei'):  # 'Spain', 'Germany'\n",
    "  # Real data\n",
    "  t = list(countrydf[c].iloc[:, 0])\n",
    "  y = list(countrydf[c].iloc[:, 1])\n",
    "  plt.scatter(t, y, label=c)\n",
    "\n",
    "  # Predicted exponential curve\n",
    "  if exp_fit[c]:\n",
    "    plt.plot(t_fit, [exp_model(i, exp_fit[c][0][0],exp_fit[c][0][1],exp_fit[c][0][2]) for i in t_fit],\n",
    "             label=(\"Exponential %s\" % c))\n",
    "\n",
    "plt.legend()\n",
    "plt.title(\"Confirmed cases per 1M inhabitants\")\n",
    "plt.xlabel(\"Days since Mar 2020\")\n",
    "plt.ylabel(\"Count\")\n",
    "plt.ylim((0.1, 1e4))\n",
    "plt.yscale('log')\n",
    "plt.grid(which='both')\n",
    "plt.show()"
   ]
  },
  {
   "cell_type": "markdown",
   "metadata": {},
   "source": [
    "### [Advanced]\n",
    "\n",
    "If we want to take into account that the population size is not infinite, a more realistic model is given by the \"logistic\" (or sigmoid) function:\n",
    "\n",
    "  $$f_{a,b,c}(\\tau) = \\frac{a}{1+e^{-(t-b)/\\tau}} \\quad a \\equiv P_{final}\\$$\n",
    "\n",
    "The derivation of this formula goes beyond the scope of this tutorial. See e.g. https://en.wikipedia.org/wiki/Logistic_regression for further details.\n",
    "\n",
    "Let's have a look at this one too."
   ]
  },
  {
   "cell_type": "code",
   "execution_count": null,
   "metadata": {},
   "outputs": [],
   "source": [
    "def logistic_model(t, a, b, c):\n",
    "  return a/(1+np.exp(-(t-b)/c))"
   ]
  },
  {
   "cell_type": "code",
   "execution_count": null,
   "metadata": {
    "scrolled": true
   },
   "outputs": [],
   "source": [
    "t_range = list(range(-15, +15))\n",
    "plt.plot(t_range, [logistic_model(i, 10000, 0, 1.3) for i in t_range])\n",
    "plt.plot(t_range, [exp_model(i, 4, -10.2, 1.3) for i in t_range])\n",
    "\n",
    "plt.title(\"Logistic growth vs. exponential growth\")\n",
    "plt.xlabel(\"Days\")\n",
    "plt.ylabel(\"Count\")\n",
    "plt.ylim((0.1, 1.2e4))\n",
    "#plt.yscale('log')\n",
    "plt.grid(which='both')\n",
    "plt.show()"
   ]
  },
  {
   "cell_type": "code",
   "execution_count": null,
   "metadata": {
    "scrolled": true
   },
   "outputs": [],
   "source": [
    "logit_fit = {}\n",
    "for c in pop:\n",
    "  t = list(countrydf[c].iloc[:,0])\n",
    "  y = list(countrydf[c].iloc[:,1])\n",
    "  try:\n",
    "    logit_fit[c] = curve_fit(logistic_model, t, y, p0=[1000, 40, 3])\n",
    "  except RuntimeError:\n",
    "    logit_fit[c] = None\n",
    "\n",
    "logit_fit     # parameters of the fit and Covariance Matrix - this time also for Hubei."
   ]
  },
  {
   "cell_type": "code",
   "execution_count": null,
   "metadata": {
    "scrolled": true
   },
   "outputs": [],
   "source": [
    "t_fit = list(range(-40, +30))\n",
    "\n",
    "show_exp = False\n",
    "\n",
    "for c in ('Italy', 'Switzerland', 'France', 'Hubei'):  # 'Spain', 'Germany'\n",
    "  # Real data\n",
    "  t = list(countrydf[c].iloc[:, 0])\n",
    "  y = list(countrydf[c].iloc[:, 1])\n",
    "  plt.scatter(t, y, label=c)\n",
    "\n",
    "  if show_exp:\n",
    "    # Predicted exponential curve\n",
    "    if exp_fit[c]:\n",
    "      plt.plot(t_fit, [exp_model(i, exp_fit[c][0][0],exp_fit[c][0][1],exp_fit[c][0][2]) for i in t_fit],\n",
    "               label=(\"Exponential %s\" % c))\n",
    "  else:\n",
    "    # Predicted logistic curve\n",
    "    if logit_fit[c]:\n",
    "      plt.plot(t_fit, [logistic_model(i, logit_fit[c][0][0],logit_fit[c][0][1],logit_fit[c][0][2]) for i in t_fit],\n",
    "               label=(\"Logistic %s\" % c))\n",
    "\n",
    "plt.legend()\n",
    "plt.title(\"Confirmed cases per 1M inhabitants\")\n",
    "plt.xlabel(\"Days since Mar 2020\")\n",
    "plt.ylabel(\"Count\")\n",
    "plt.ylim((0.1, 1e4))\n",
    "plt.yscale('log')\n",
    "plt.grid(which='both')\n",
    "plt.show()"
   ]
  },
  {
   "cell_type": "code",
   "execution_count": null,
   "metadata": {},
   "outputs": [],
   "source": []
  }
 ],
 "metadata": {
  "kernelspec": {
   "display_name": "Python 2",
   "language": "python",
   "name": "python2"
  },
  "language_info": {
   "codemirror_mode": {
    "name": "ipython",
    "version": 2
   },
   "file_extension": ".py",
   "mimetype": "text/x-python",
   "name": "python",
   "nbconvert_exporter": "python",
   "pygments_lexer": "ipython2",
   "version": "2.7.16"
  }
 },
 "nbformat": 4,
 "nbformat_minor": 2
}
