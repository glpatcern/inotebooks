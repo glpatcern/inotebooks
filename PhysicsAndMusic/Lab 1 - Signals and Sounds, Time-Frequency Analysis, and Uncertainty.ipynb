{
 "cells": [
  {
   "cell_type": "markdown",
   "metadata": {},
   "source": [
    "# 1. Signals & Sounds, and the Uncertainty Principle\n",
    "\n",
    "In this first module, we get confident with the tools and perform some time-frequency analysis. We will _hear_ the Uncertainty \"Principle\" at work."
   ]
  },
  {
   "cell_type": "code",
   "execution_count": 1,
   "metadata": {},
   "outputs": [],
   "source": [
    "# standard python libs for math, signal processing and plotting\n",
    "import numpy as np\n",
    "import scipy.signal as ss\n",
    "import matplotlib.pyplot as plt\n",
    "from math import log10\n",
    "\n",
    "# python libs for the notebook interaction\n",
    "from ipywidgets import interact\n",
    "import ipywidgets as widgets\n",
    "\n",
    "# custom modules, to be installed by hand on the anaconda prompt\n",
    "# with `pip install tftb simpleaudio`\n",
    "import simpleaudio as sa   # generates sounds\n",
    "from tftb.processing import Spectrogram   # computes a time-frequency \"map\" of a signal"
   ]
  },
  {
   "cell_type": "markdown",
   "metadata": {},
   "source": [
    "## The Fourier Transform\n",
    "\n",
    "### Theory recap\n",
    "\n",
    "The Fourier Transform $S(f)$ of a time-dependent signal $s(t)$ is defined as:\n",
    "\n",
    "$$S(f) = \\int_{-\\infty}^{+\\infty}s(t)e^{-\\imath 2\\pi ft}dt$$\n",
    "\n",
    "The Fourier Transform operator $F$ is a linear operator with several interesting properties. Let's recall a few.\n",
    "\n",
    "1) Transforming a monochromatic signal of frequency $f_0$ (including $f_0 = 0$, i.e. a constant function) yields the Dirac delta distribution, and on the contrary transforming a Dirac delta yields a constant:\n",
    "\n",
    "$$s(t) = e^{\\imath 2\\pi f_0 t} \\Rightarrow S(f) = \\delta(f - f_0)$$\n",
    "\n",
    "$$s(t) = \\delta(t) \\Rightarrow S(f) = 1$$\n",
    "\n",
    "2) Transforming a Gaussian signal yields another Gaussian, i.e. the gaussian is an _eigenfunction_ of the Fourier operator:\n",
    "\n",
    "$$s(t) = \\frac{1}{\\sqrt{2\\pi\\sigma^2}}e^{-t^2 / 2\\sigma^2} \\Rightarrow S(f) = \\frac{1}{2\\sigma^2}e^{-2\\pi^2\\sigma^2 f^2}$$\n",
    "\n",
    "Note how the transformed Gaussian has a standard deviation proportional to $\\sigma^{-1}$.\n",
    "\n",
    "More in general, the _Hermite functions_ constitute an orthonormal basis of the Fourier operator. Remember the solutions of the Armonic Oscillator?\n",
    "\n",
    "3) The _convolution_ or _cross-correlation_ of two signals gets transformed to the product of their transforms, and vice versa:\n",
    "\n",
    "$$c(t) = (s_1 \\ast s_2)(t) = \\int_{-\\infty}^{+\\infty}s_1(\\tau) \\cdot s_2(t-\\tau)d\\tau => C(f) = S_1(f) \\cdot S_2(f)$$\n",
    "$$p(t) = s_1(t) \\cdot s_2(t) => P(f) = (S_1 \\ast S_2)(f)$$\n",
    "\n",
    "3.1) It follows that the _autocorrelation_ of a signal is transformed to the _power spectrum_ of that signal:\n",
    "\n",
    "$$r(t) = (s \\ast \\overline{s})(t) = \\int_{-\\infty}^{+\\infty}s(\\tau)\\cdot \\overline{s(t-\\tau)}d\\tau => R(f) = |S(f)|^2$$\n",
    "\n",
    "3.2) It also follows that the Dirac delta is the unit for the $\\ast$ operator. Therefore, a monochromatic signal enveloped by a *window* signal gets transformed to the Fourier transform of the window, shifted by the signal frequency:\n",
    "\n",
    "$$s(t) = w(t) \\cdot e^{\\imath 2\\pi f_{0}t} \\Rightarrow S(f) = W(f) \\ast \\delta(f - f_0) = W(f - f_0)$$\n",
    "\n",
    "4) Given $s\\bar{}(t) := s(-t)$, the following applies:\n",
    "\n",
    "$$F^2(s) = s\\bar{}; F^3(S) = s; F^4(s) = s$$\n",
    "\n",
    "That is, $F^3$ is equivalent to the Inverse Fourier Transform. The latter can be directly defined as:\n",
    "\n",
    "$$s(t) = \\int_{-\\infty}^{+\\infty}S(f)e^{\\imath 2\\pi ft}df$$\n",
    "\n",
    "\n",
    "### Testing live\n",
    "\n",
    "Let's explore some of those properties live.\n",
    "\n",
    "The code below defines a function to plot a given signal both in the time domain and in the frequency domain. The latter is a log/log plot of the _power spectrum_ of the signal, as this is the closest picture of our hears' perception.\n",
    "\n",
    "The function's samples are stored as *numpy* arrays"
   ]
  },
  {
   "cell_type": "code",
   "execution_count": 2,
   "metadata": {},
   "outputs": [],
   "source": [
    "samples = 65536\n",
    "def plottimefreq(s, duration, small=False):\n",
    "    # plot the time series of the signal s\n",
    "    plt.subplots(figsize=(25, 5)) \n",
    "    ax = plt.subplot(1, 3 - int(small), 1)\n",
    "    plt.plot(np.real(s))\n",
    "    plt.xlim(0)\n",
    "    ax.set_xlabel('t [ms]')\n",
    "    maxx = int(duration*10 + 1)*100\n",
    "    ax.set_xticks(np.arange(0, maxx*fs/1000, maxx*fs/10000, dtype=int))\n",
    "    ax.set_xticklabels(np.arange(0, maxx, maxx/10, dtype=int))\n",
    "    plt.grid(which='major')\n",
    "    plt.title(\"Wave packet\")\n",
    "\n",
    "    # also compute and plot power spectrum\n",
    "    ax = plt.subplot(1, 3 - int(small), 2)\n",
    "    s = np.pad(s, (0, samples-s.size), mode='constant')\n",
    "    W = np.abs(np.fft.fft(s) ** 2)\n",
    "    f = np.fft.fftfreq(s.size, 1/fs)\n",
    "    plt.plot(f, W)\n",
    "    plt.xlim(20, 10000)\n",
    "    #formatter = LogFormatter(labelOnlyBase=False, minor_thresholds=(1, 0.1))\n",
    "    #ax.get_xaxis().set_minor_formatter(formatter)\n",
    "    ax.set_xlabel('f [Hz]')\n",
    "    plt.ylim(1E-4)\n",
    "    plt.xscale('log')\n",
    "    plt.yscale('log')\n",
    "    plt.grid(which='both')\n",
    "    plt.title(\"Power spectrum (log/log)\")\n",
    "    plt.show()"
   ]
  },
  {
   "cell_type": "markdown",
   "metadata": {},
   "source": [
    "The interactive code below creates simple audio signals, plays them and shows the plots from the above function"
   ]
  },
  {
   "cell_type": "code",
   "execution_count": 3,
   "metadata": {},
   "outputs": [
    {
     "data": {
      "application/vnd.jupyter.widget-view+json": {
       "model_id": "3e8cf77f110644d7a77c376a4a6416fe",
       "version_major": 2,
       "version_minor": 0
      },
      "text/plain": [
       "interactive(children=(FloatLogSlider(value=20.000000000000004, continuous_update=False, description='f', max=4…"
      ]
     },
     "metadata": {},
     "output_type": "display_data"
    }
   ],
   "source": [
    "fs = 44100\n",
    "@interact(f=widgets.FloatLogSlider(min=log10(20), max=log10(20000), continuous_update=False),\n",
    "          duration=widgets.FloatSlider(min=0.01, max=1.48, value=0.6, step=0.01, continuous_update=False),\n",
    "          play=widgets.Checkbox(description='play')\n",
    "         )\n",
    "def playwavelet(f, duration, play):\n",
    "    t = np.linspace(0, duration, int(duration * fs), False)\n",
    "\n",
    "    # generate the fundamental wave\n",
    "    s = np.sin(2 * np.pi * f * t)\n",
    "\n",
    "    # play it\n",
    "    if play:\n",
    "        playable = s * (2**15 - 1) / np.max(np.abs(s))\n",
    "        # stop any ongoing play\n",
    "        #sa.stop_all()\n",
    "        # convert to 16-bit data and play\n",
    "        sa.play_buffer(playable.astype(np.int16), 1, 2, fs)        \n",
    "        \n",
    "    plottimefreq(s, duration)"
   ]
  },
  {
   "cell_type": "markdown",
   "metadata": {},
   "source": [
    "### The Uncertainty Principle in action\n",
    "\n",
    "Combining the second moments of a square-integrable function $s$:\n",
    "\n",
    "$$\\sigma^2(s) = \\int_{-\\infty}^{+\\infty}x^2 |s(x)|^2dx$$\n",
    "\n",
    "Both in the time domain and the frequency domain, and using the Cauchy-Schwartz inequality, it can be proven that:\n",
    "\n",
    "$$\\sigma^2(s) \\cdot \\sigma^2(S) \\ge \\frac{1}{16\\pi^2}$$\n",
    "\n",
    "Where the equality holds for a Gaussian:\n",
    "\n",
    "$$\\sigma_t \\cdot \\sigma_f = \\frac{1}{4\\pi}$$\n",
    "\n",
    "With $\\sigma_t$ the standard deviation of a Gaussian signal as defined above, and $\\sigma_f$ the standard deviation of its Fourier transform.\n",
    "\n",
    "Compare this with the *Heisenberg Uncertainty Principle*:\n",
    "\n",
    "$$\\sigma_x \\cdot \\sigma_p \\ge \\frac{h}{4\\pi} = \\frac{\\hbar}{2}$$\n",
    "\n",
    "In the following, we plot a single-frequency wavelet, its power spectrum and the \"short Fourier Transform\" in the time-frequency plane, and compare their time vs. frequency spreads:\n",
    "\n",
    "* by varying the duration of the wavelet\n",
    "* by varying the enveloping or windowing signal (*rectangular* i.e. no window, *Hann*, *Hamming*, or *Gaussian*)\n",
    "* by varying the fraction of the signal that is smoothed by the window\n",
    "\n",
    "We can \"see\" how a short time spread yields a large frequency spread, and we can \"hear\" how the sound progressively becomes a *tic* with no clear pitch!\n",
    "Also, note how the absence of a windowing signal produces a *click* at the beginning and at the end of the signal, whereas the smoothest sound comes with the Gaussian windowing."
   ]
  },
  {
   "cell_type": "code",
   "execution_count": 4,
   "metadata": {},
   "outputs": [
    {
     "data": {
      "application/vnd.jupyter.widget-view+json": {
       "model_id": "c20909813a794dc0b2d75309ccdb1de3",
       "version_major": 2,
       "version_minor": 0
      },
      "text/plain": [
       "interactive(children=(FloatLogSlider(value=20.000000000000004, continuous_update=False, description='f', max=4…"
      ]
     },
     "metadata": {},
     "output_type": "display_data"
    }
   ],
   "source": [
    "fs = 44100\n",
    "@interact(f=widgets.FloatLogSlider(min=log10(20), max=log10(20000), continuous_update=False),\n",
    "          duration=widgets.FloatSlider(min=0.01, max=1.48, value=0.6, step=0.01, continuous_update=False),\n",
    "          window=widgets.RadioButtons(options=['rect', 'hann', 'hamming', 'gaussian']),\n",
    "          gauss_stdev=widgets.FloatSlider(min=100, max=8000, value=5000, continuous_update=False),\n",
    "          win_frac=widgets.FloatSlider(min=0.01, max=1.00, value=1.00, step=0.01, continuous_update=False),\n",
    "          play=widgets.Checkbox(description='play')\n",
    "         )\n",
    "def playwavelet(f, duration, window, gauss_stdev, win_frac, play):\n",
    "    t = np.linspace(0, duration, int(duration * fs), False)\n",
    "\n",
    "    # generate the fundamental wave\n",
    "    s = np.sin(2 * np.pi * f * t)\n",
    "    # use a window to smooth begin and end\n",
    "    if window == 'hann':\n",
    "        w = np.hanning(s.size * win_frac)\n",
    "    elif window == 'hamming':\n",
    "        w = np.hamming(s.size * win_frac)\n",
    "    elif window == 'gaussian':\n",
    "        w = ss.gaussian(int(s.size * win_frac), duration*win_frac*gauss_stdev)\n",
    "    if window != 'rect':\n",
    "        # apply the window at the ramp up and ramp down of the signal\n",
    "        for i in range(int(w.size/2)):\n",
    "            s[i] *= w[i]\n",
    "            s[s.size-int(w.size/2)+i] *= w[int(w.size/2)+i]\n",
    "\n",
    "    # play it\n",
    "    if play:\n",
    "        playable = s * (2**15 - 1) / np.max(np.abs(s))\n",
    "        # stop any ongoing play\n",
    "        #sa.stop_all()\n",
    "        # convert to 16-bit data and play\n",
    "        sa.play_buffer(playable.astype(np.int16), 1, 2, fs)        \n",
    "        \n",
    "    plottimefreq(s, duration)"
   ]
  },
  {
   "cell_type": "markdown",
   "metadata": {},
   "source": [
    "### Time-Frequency Analysis\n",
    "\n",
    "Time-frequency analyses are particularly suitable for fast changing signals (e.g. chirps), where the spectral analysis over the full time range does not accurately represent the perceived effect. In such cases, the energy distribution over the $t$-$f$ plane accounts for the time-varying frequency content of the signal.\n",
    "\n",
    "Such energy distribution can be obtained for instance with the *spectrogram*, defined from the *Short-Time Fourier Transform*:\n",
    "\n",
    "$$ S_{st}(\\tau, f) = \\int_{-\\infty}^{+\\infty}s(t)w(t-\\tau)e^{-\\imath 2\\pi ft}dt$$\n",
    "\n",
    "Where $w(t)$ is a windowing function, typically Hamming or Gaussian. The spectrogram is defined as $|S_{st}(\\tau, f)|^2$.\n",
    "\n",
    "The Uncertainty Principle can be seen at play in the time-frequency plane as the \"area\" occupied by a signal cannot be arbitrarily small: a signal can either be localized over the $t$ axis or over the $f$ axis, not both. Again, the maximum localization in both axis, i.e. the minimal area, is achieved with a Gaussian signal."
   ]
  },
  {
   "cell_type": "code",
   "execution_count": 5,
   "metadata": {},
   "outputs": [
    {
     "data": {
      "application/vnd.jupyter.widget-view+json": {
       "model_id": "dbc21081ecea401eaf4777c8652c5887",
       "version_major": 2,
       "version_minor": 0
      },
      "text/plain": [
       "interactive(children=(FloatLogSlider(value=100.0, continuous_update=False, description='f', max=3.0, min=2.0),…"
      ]
     },
     "metadata": {},
     "output_type": "display_data"
    }
   ],
   "source": [
    "@interact(f=widgets.FloatLogSlider(min=log10(100), max=log10(1000), continuous_update=False),\n",
    "          durationms=widgets.IntSlider(min=1, max=500, value=100, step=1, continuous_update=False),\n",
    "          window=widgets.RadioButtons(options=['rect', 'hann', 'hamming', 'gaussian']),\n",
    "          win_frac=widgets.FloatSlider(min=0.01, max=1.00, value=1.00, step=0.01, continuous_update=False),\n",
    "         )\n",
    "def playwavelet(f, durationms, window, win_frac):\n",
    "    t = np.linspace(0, durationms/1000, int(durationms/1000 * fs), False)\n",
    "\n",
    "    # generate the fundamental wave\n",
    "    s = 1000 * np.sin(2 * np.pi * f * t)\n",
    "    # use a window to smooth begin and end\n",
    "    if window == 'hann':\n",
    "        w = np.hanning(s.size * win_frac)\n",
    "    elif window == 'hamming':\n",
    "        w = np.hamming(s.size * win_frac)\n",
    "    elif window == 'gaussian':\n",
    "        w = ss.gaussian(int(s.size * win_frac), durationms*win_frac*4)\n",
    "    if window != 'rect':\n",
    "        # apply the window at the ramp up and ramp down of the signal\n",
    "        for i in range(int(w.size/2)):\n",
    "            s[i] *= w[i]\n",
    "            s[s.size-int(w.size/2)+i] *= w[int(w.size/2)+i]\n",
    "    \n",
    "    # pad the signal, resample to speed up computation, and compute the spectrogram\n",
    "    # the window function is 200 times shorter than the input signal to accurately \"explore\" it\n",
    "    padding = int((samples/2-s.size)/2)\n",
    "    sp = Spectrogram(ss.resample(np.pad(s, (padding, padding), mode='constant'), 2048), \n",
    "                     fwindow=np.hamming(int(s.size/200)+1))   # ss.gaussian(int(s.size/200)+1, 3) as an alternative\n",
    "    sp.run()\n",
    "    sp.plot(kind='contour', scale='log', threshold=0.01)\n",
    "\n",
    "    # add the usual time domain and frequency domain plots for reference\n",
    "    plottimefreq(s, durationms/1000, small=True)\n"
   ]
  },
  {
   "cell_type": "code",
   "execution_count": null,
   "metadata": {},
   "outputs": [],
   "source": []
  }
 ],
 "metadata": {
  "kernelspec": {
   "display_name": "Python 3",
   "language": "python",
   "name": "python3"
  },
  "language_info": {
   "codemirror_mode": {
    "name": "ipython",
    "version": 3
   },
   "file_extension": ".py",
   "mimetype": "text/x-python",
   "name": "python",
   "nbconvert_exporter": "python",
   "pygments_lexer": "ipython3",
   "version": "3.7.6"
  }
 },
 "nbformat": 4,
 "nbformat_minor": 4
}
