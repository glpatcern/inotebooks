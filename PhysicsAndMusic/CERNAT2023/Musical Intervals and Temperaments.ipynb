{
 "cells": [
  {
   "cell_type": "markdown",
   "id": "5b8d96d7",
   "metadata": {},
   "source": [
    "# Musical intervals, consonances and dissonances, temperaments\n",
    "\n",
    "Code to explore dyadic intervals and their degree of consonance, as well as different temperaments."
   ]
  },
  {
   "cell_type": "code",
   "execution_count": 1,
   "id": "55c02fcc",
   "metadata": {},
   "outputs": [],
   "source": [
    "from math import log, exp\n",
    "import numpy as np\n",
    "import scipy.signal as ss\n",
    "import matplotlib.pyplot as plt\n",
    "from matplotlib.ticker import LogFormatter, FormatStrFormatter\n",
    "from ipywidgets import interact, interactive_output\n",
    "from IPython.display import display as wdisplay\n",
    "import ipywidgets as widgets\n",
    "import harmony\n",
    "# $matplotlib"
   ]
  },
  {
   "cell_type": "code",
   "execution_count": 3,
   "id": "18e2f84e",
   "metadata": {},
   "outputs": [],
   "source": [
    "# initialization\n",
    "plt.rc('figure', figsize=(20, 10))\n",
    "k_harp = 0.45"
   ]
  },
  {
   "cell_type": "code",
   "execution_count": 4,
   "id": "10ee40e1",
   "metadata": {},
   "outputs": [],
   "source": [
    "# Prepare UI\n",
    "def leftlayout(degree):\n",
    "    return widgets.Layout(left='-%d%%' % degree)\n",
    "\n",
    "def genUI_P():\n",
    "    w_phys_label = widgets.HTML(value='<b><center>Physical parameters</center></b>')\n",
    "    w_duration = widgets.FloatSlider(min=0.1, max=6, value=2, step=0.1, continuous_update=False, description='Duration [s]')\n",
    "    w_harmonics = widgets.IntSlider(min=1, max=20, value=6, continuous_update=False, description='no. Harmonics',\n",
    "                                    style={'description_width': 'initial'})\n",
    "    w_h_model = widgets.RadioButtons(options=harmony.h_models, description='Harm. model')\n",
    "    w_k_harp = widgets.FloatSlider(min=0.01, max=0.5, value=k_harp, step=0.01, continuous_update=False, description='k_harp')\n",
    "    w_k_harp.layout.visibility = 'hidden'\n",
    "    w_spectrogram = widgets.Checkbox(description='Show Spectrogram')\n",
    "\n",
    "    def handle_h_model(change):\n",
    "        w_k_harp.layout.visibility = 'visible' if change['new'] == 'harp' else 'hidden'\n",
    "\n",
    "    def handle_addcb(change):\n",
    "        w_miscb.layout.visibility = 'visible' if change['new'] else 'hidden'\n",
    "\n",
    "    w_h_model.observe(handle_h_model, names='value')\n",
    "    w_file_label = widgets.HTML(value='Filename prefix <i>(leave empty to not save)</i>')\n",
    "    w_filename = widgets.Text(description='')\n",
    "\n",
    "    return widgets.VBox([w_phys_label, w_duration, w_harmonics, w_h_model, w_k_harp,\n",
    "                         w_spectrogram, w_file_label, w_filename],\n",
    "                        layout=leftlayout(20)), {\n",
    "        'duration': w_duration,\n",
    "        'harmonics': w_harmonics,\n",
    "        'h_model': w_h_model,\n",
    "        'k_harp': w_k_harp,\n",
    "        'spectrogram': w_spectrogram,\n",
    "        'filename': w_filename,\n",
    "    }\n",
    "\n",
    "def genUI_M():\n",
    "    w_mus_label = widgets.HTML(value='<b>&nbsp; &nbsp; &nbsp; Musical parameters</b>')\n",
    "    w_temperament = widgets.RadioButtons(options=harmony.temperaments, description='Temperament')\n",
    "    w_tonic = widgets.IntSlider(min=-11, max=62, value=0, continuous_update=False, description='Tonic')\n",
    "    w_interval = widgets.IntSlider(min=0, max=62, value=7, continuous_update=False, description='Interval')\n",
    "    w_c_int2 = widgets.Checkbox(description='Interval 2', layout=leftlayout(20))\n",
    "    w_interval2 = widgets.IntSlider(min=1, max=62, value=4, continuous_update=False, layout=leftlayout(30))\n",
    "    return widgets.VBox([w_mus_label, w_temperament, w_tonic, w_interval,\n",
    "                         widgets.HBox([w_c_int2, w_interval2], layout=widgets.Layout(width='70%', align_content='stretch'))\n",
    "                       ]), {\n",
    "        'temperament': w_temperament,\n",
    "        'tonic': w_tonic,\n",
    "        'int1': w_interval,\n",
    "        'c_int2': w_c_int2,\n",
    "        'int2': w_interval2\n",
    "       }\n",
    "\n",
    "w_out = widgets.Output(layout=widgets.Layout(width='75%', left='25%'))\n",
    "@w_out.capture()\n",
    "def captureoutput(obj, method, *args):\n",
    "    w_out.clear_output(wait=True)\n",
    "    return getattr(obj, method)(*args)"
   ]
  },
  {
   "cell_type": "markdown",
   "id": "1b419a41",
   "metadata": {},
   "source": [
    "## Dyads and triads"
   ]
  },
  {
   "cell_type": "code",
   "execution_count": 5,
   "id": "6f8ab56d",
   "metadata": {
    "scrolled": false
   },
   "outputs": [
    {
     "data": {
      "application/vnd.jupyter.widget-view+json": {
       "model_id": "a027c27bfbdd4117bb4215215d565e96",
       "version_major": 2,
       "version_minor": 0
      },
      "text/plain": [
       "VBox(children=(HBox(children=(VBox(children=(HTML(value='<b>&nbsp; &nbsp; &nbsp; Musical parameters</b>'), Rad…"
      ]
     },
     "metadata": {},
     "output_type": "display_data"
    },
    {
     "data": {
      "application/vnd.jupyter.widget-view+json": {
       "model_id": "264c943aa99549c592388f47f2892035",
       "version_major": 2,
       "version_minor": 0
      },
      "text/plain": [
       "Output()"
      ]
     },
     "metadata": {},
     "output_type": "display_data"
    }
   ],
   "source": [
    "def interactive_dyads_triads(temperament, tonic, int1, c_int2, int2, duration, harmonics,\n",
    "                             h_model, k_harp, spectrogram, filename):\n",
    "    c = harmony.IChord(temperament, tonic, duration, harmonics, False, h_model, k_harp, 0)\n",
    "    # generate signal for the given interval\n",
    "    if int1 == 0:\n",
    "        s = c.note(tonic)\n",
    "        d = 0\n",
    "    elif not c_int2:\n",
    "        s, d = captureoutput(c, 'dichord', int1)\n",
    "    else:\n",
    "        s, d = captureoutput(c, 'triad', int1, int2)\n",
    "    c.play(s)\n",
    "    c.plottimefreq(s, spectrogram)\n",
    "    if filename:\n",
    "        # harmonics = 10, h_model = harp-verotta for the test sounds\n",
    "        c.save(s, '%s_%d_%s.wav' % (filename, tonic, temperament))\n",
    "    # wait for playback to finish before exiting\n",
    "    #p.wait_done()\n",
    "\n",
    "uiM = genUI_M()\n",
    "uiP = genUI_P()\n",
    "ui = widgets.VBox([widgets.HBox([uiM[0], uiP[0]], layout=widgets.Layout(justify_content='center')), w_out])\n",
    "interactive = interactive_output(interactive_dyads_triads, uiM[1] | uiP[1])\n",
    "wdisplay(ui, interactive)"
   ]
  },
  {
   "cell_type": "code",
   "execution_count": null,
   "id": "d07985ab",
   "metadata": {},
   "outputs": [],
   "source": []
  }
 ],
 "metadata": {
  "kernelspec": {
   "display_name": "Python 3 (ipykernel)",
   "language": "python",
   "name": "python3"
  },
  "language_info": {
   "codemirror_mode": {
    "name": "ipython",
    "version": 3
   },
   "file_extension": ".py",
   "mimetype": "text/x-python",
   "name": "python",
   "nbconvert_exporter": "python",
   "pygments_lexer": "ipython3",
   "version": "3.9.13"
  }
 },
 "nbformat": 4,
 "nbformat_minor": 5
}
