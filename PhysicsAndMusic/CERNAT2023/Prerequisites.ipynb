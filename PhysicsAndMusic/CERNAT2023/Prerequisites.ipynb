{
 "cells": [
  {
   "cell_type": "markdown",
   "id": "f3189055",
   "metadata": {},
   "source": [
    "# Lab 0 - Prerequisites\n",
    "\n",
    "## Using `matplotlib`, `numpy` and other Python modules to generate and play audio signals\n",
    "\n",
    "In this preliminary lab we will setup all the tools and start \"playing\" with Python.\n",
    "\n",
    "To start executing this notebook, you need to install a few extra packages."
   ]
  },
  {
   "cell_type": "code",
   "execution_count": 1,
   "id": "b9efb6e9",
   "metadata": {},
   "outputs": [],
   "source": [
    "# standard python libs for math, signal processing and plotting\n",
    "import numpy as np\n",
    "import scipy.signal as ss\n",
    "import matplotlib.pyplot as plt\n",
    "import matplotlib.animation as animation\n",
    "import scipy.io.wavfile as wav\n",
    "\n",
    "# for this to work you need to run on your terminal\n",
    "# (Anaconda prompt on Windows, standard terminal on MacOS):\n",
    "# `pip install simpleaudio`\n",
    "import simpleaudio as sa\n",
    "\n",
    "# similarly run `pip install tftb` for the following\n",
    "from tftb.processing import Spectrogram   # computes a time-frequency \"map\" of a signal\n",
    "\n",
    "# interactive plots enabled\n",
    "#%matplotlib notebook\n",
    "# with the following, the plots are opened as separate windows in full resolution\n",
    "#%matplotlib\n",
    "\n",
    "fs = 44100        # sampling frequency in audio cards is 44.1 kHz for CD-quality audio"
   ]
  },
  {
   "cell_type": "code",
   "execution_count": 2,
   "id": "7780cdba",
   "metadata": {},
   "outputs": [
    {
     "name": "stdout",
     "output_type": "stream",
     "text": [
      "\n",
      "================================================================================\n",
      "-- LeftRightCheck --\n",
      "Checks stereo playback by first playing a note in the left channel only,\n",
      "then a different note in the right channel only.\n",
      "\n",
      "Starting check in ...\n",
      "3 ...\n",
      "2 ...\n",
      "1 ...\n",
      "RUNNING CHECK ...\n",
      "... DONE\n",
      "================================================================================\n"
     ]
    }
   ],
   "source": [
    "import simpleaudio.functionchecks as fc\n",
    "\n",
    "fc.LeftRightCheck.run()"
   ]
  },
  {
   "cell_type": "markdown",
   "id": "81d23334",
   "metadata": {},
   "source": [
    "### 1. Generate and play sounds\n",
    "\n",
    "#### a. Generate a simple sine wave"
   ]
  },
  {
   "cell_type": "code",
   "execution_count": 3,
   "id": "dbf73ccc",
   "metadata": {},
   "outputs": [],
   "source": [
    "frequency = 440  # note frequency\n",
    "seconds = 1.5    # note duration\n",
    "\n",
    "# Generate a numpy array with seconds*sample_rate steps, ranging between 0 and seconds\n",
    "t = np.linspace(0, seconds, int(seconds * fs), False)\n",
    "\n",
    "# Generate a sine wave\n",
    "note = np.sin(frequency * t * 2 * np.pi)\n",
    "\n",
    "# Ensure that highest value is in 16-bit range\n",
    "audio = note * (2**15 - 1) / np.max(np.abs(note))\n",
    "# Convert to 16-bit data\n",
    "audio = audio.astype(np.int16)\n",
    "\n",
    "# Start playback\n",
    "play_obj = sa.play_buffer(audio, 1, 2, fs)\n",
    "\n",
    "# Wait for playback to finish before exiting\n",
    "play_obj.wait_done()"
   ]
  },
  {
   "cell_type": "code",
   "execution_count": 3,
   "id": "d921e45b",
   "metadata": {},
   "outputs": [],
   "source": [
    "# This is how we save the generated wave as a .wav file\n",
    "wav.write('lab0.wav', fs, audio)   # try int(fs/2) or fs*2 instead of fs"
   ]
  },
  {
   "cell_type": "markdown",
   "id": "1d2b741a",
   "metadata": {},
   "source": [
    "#### b. Play two sounds at the same time"
   ]
  },
  {
   "cell_type": "code",
   "execution_count": 4,
   "id": "8723d119",
   "metadata": {},
   "outputs": [],
   "source": [
    "note2 = np.sin(frequency * t * 3 * np.pi)\n",
    "audio2 = note2 * (2**15 - 1) / np.max(np.abs(note2))\n",
    "# Convert to 16-bit data\n",
    "audio2 = audio2.astype(np.int16)\n",
    "\n",
    "# Play both at the same time: each call to play_buffer()\n",
    "# is asynchronous and returns immediately\n",
    "play_obj = sa.play_buffer(audio, 1, 2, fs)\n",
    "play_obj = sa.play_buffer(audio2, 1, 2, fs)\n",
    "play_obj.wait_done()"
   ]
  }
 ],
 "metadata": {
  "kernelspec": {
   "display_name": "Python 3 (ipykernel)",
   "language": "python",
   "name": "python3"
  },
  "language_info": {
   "codemirror_mode": {
    "name": "ipython",
    "version": 3
   },
   "file_extension": ".py",
   "mimetype": "text/x-python",
   "name": "python",
   "nbconvert_exporter": "python",
   "pygments_lexer": "ipython3",
   "version": "3.10.9"
  }
 },
 "nbformat": 4,
 "nbformat_minor": 5
}
