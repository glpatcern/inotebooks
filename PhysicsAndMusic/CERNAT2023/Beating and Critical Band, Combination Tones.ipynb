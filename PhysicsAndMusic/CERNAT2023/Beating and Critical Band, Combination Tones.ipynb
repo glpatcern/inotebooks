{
 "cells": [
  {
   "cell_type": "markdown",
   "metadata": {},
   "source": [
    "# Beating and the Critical Band, Combination Tones\n",
    "\n",
    "In this lab we explore the _critical band_ by generating _primary_ beatings between pure signals having frequencies $f_1$ and $f_2$, where $f_1 - f_2$ is in the order of a few Hz.\n",
    "\n",
    "_Secondary_ beatings may also be perceived when $f_1 \\simeq k f_2$ within few Hz, for $k = n/m$ and $n,m$ small integers. Here, higher harmonics play an important role.\n",
    "\n",
    "Finally, _Combination Tones_ can be heard due to the non-linearity of the hear apparatus, and correspond to frequencies $f_2 - f_1$ (the _Tartini third sound_) and $2 f_1 - f_2$. To explore those, we add a sound with frequency $f_c$ within few Hz of those differences."
   ]
  },
  {
   "cell_type": "code",
   "execution_count": 15,
   "metadata": {},
   "outputs": [],
   "source": [
    "import numpy as np\n",
    "import scipy.signal as ss\n",
    "import matplotlib.pyplot as plt\n",
    "from math import log10, log\n",
    "from ipywidgets import interact\n",
    "import ipywidgets as widgets\n",
    "import librosa    # for the fast spectrogram\n",
    "import librosa.display\n",
    "import simpleaudio as sa\n",
    "from scipy.io.wavfile import write as wavwrite\n",
    "\n",
    "fs = 24000\n",
    "plt.rc('figure', figsize=(20, 10))\n",
    "spectrogram=True"
   ]
  },
  {
   "cell_type": "code",
   "execution_count": 16,
   "metadata": {},
   "outputs": [],
   "source": [
    "def plottime(s, duration):\n",
    "    # plot the time series of the signal s\n",
    "    plt.subplots(figsize=(25, 5)) \n",
    "    ax = plt.subplot(1, 1, 1)\n",
    "    plt.plot(np.real(s))\n",
    "    plt.xlim(0)\n",
    "    ax.set_xlabel('t [ms]')\n",
    "    maxx = int(duration*10 + 1)*100\n",
    "    ax.set_xticks(np.arange(0, maxx*fs/1000, maxx*fs/10000, dtype=int))\n",
    "    ax.set_xticklabels(np.arange(0, maxx, maxx/10, dtype=int))\n",
    "    plt.grid(which='major')\n",
    "    plt.title(\"Wave packet\")"
   ]
  },
  {
   "cell_type": "code",
   "execution_count": 19,
   "metadata": {},
   "outputs": [
    {
     "data": {
      "application/vnd.jupyter.widget-view+json": {
       "model_id": "fdb2f2fd80084ea093647a4e3834f8a4",
       "version_major": 2,
       "version_minor": 0
      },
      "text/plain": [
       "interactive(children=(IntSlider(value=262, continuous_update=False, description='f1', max=2000, min=50), Bound…"
      ]
     },
     "metadata": {},
     "output_type": "display_data"
    }
   ],
   "source": [
    "@interact(f1=widgets.IntSlider(min=50, max=2000, value=262, continuous_update=False),\n",
    "          #f2=widgets.BoundedFloatText(min=50, max=2000, value=393, continuous_update=False),\n",
    "          f2suf1_m=widgets.BoundedFloatText(min=1, max=1000, value=5, continuous_update=False),\n",
    "          f2suf1_n=widgets.BoundedFloatText(min=1, max=1000, value=3, continuous_update=False),\n",
    "          harmonics=widgets.IntSlider(min=1, max=10, value=1, continuous_update=False),\n",
    "          comb_tone=widgets.RadioButtons(options=['None', 'Common Bass', 'Tartini (f2 - f1)', '2f1 - f2'],\n",
    "                                         value='None', continuous_update=False),\n",
    "          mistune=widgets.IntSlider(min=0, max=40, value=0, continuous_update=False),\n",
    "          duration=widgets.FloatSlider(min=0.01, max=6, value=3, step=0.01, continuous_update=False),\n",
    "          play=widgets.Checkbox(description='play', value=True),\n",
    "          save=widgets.Checkbox(description='save', value=False),\n",
    "         )\n",
    "def playwavelets(f1, f2suf1_m, f2suf1_n, harmonics, comb_tone, mistune, duration, play, save):\n",
    "    t = np.linspace(0, duration, int(duration * fs), False)\n",
    "    f2 = f1 * f2suf1_m * 1.0 / f2suf1_n\n",
    "    print('f2 = %.2f Hz' % f2)\n",
    "\n",
    "    # generate the signal\n",
    "    s = np.sin(2 * np.pi * f1 * t) + np.sin(2 * np.pi * f2 * t)\n",
    "\n",
    "    # add the harmonics with given weights if requested\n",
    "    if harmonics > 1:\n",
    "        for h in range(harmonics-1):   # h = 0..harmonics-2\n",
    "            s += np.sin(2 * np.pi * f1 * (h+2) * t) * 1/(h+2) + np.sin(2 * np.pi * f2 * (h+2) * t) * 1/(h+2)\n",
    "\n",
    "    # add the combination tone if requested, with a mistuning\n",
    "    if comb_tone != 'None':\n",
    "        fc = f2 - f1 if comb_tone == 'Tartini (f2 - f1)' else (\n",
    "             2*f1 - f2 if comb_tone == '2f1 - f2' else\n",
    "             f1 / f2suf1_m)  # == f2 / f2suf1_n\n",
    "        if fc < 1:\n",
    "            fc = 0\n",
    "        print('Comb. tone: %.2f Hz' % fc)\n",
    "        if fc > 0:\n",
    "            s += 2 * np.sin(2 * np.pi * (fc + mistune) * t)\n",
    "\n",
    "    #if f1 == f2:\n",
    "    #    f = np.full(int(duration * fs), f1)\n",
    "    #else:\n",
    "    #    #f = np.arange(f1, f2, (f2-f1) * 1.0 / int(duration * fs))    # linear chirp\n",
    "    #    f = f1 * np.exp(t * log(f2/f1) / duration)    # exponential chirp, \"linear perception\"\n",
    "    #s = np.sin(2 * np.pi * f * t)\n",
    "\n",
    "    # apply a hanning window at the ramp up and ramp down of the signal\n",
    "    w = np.hanning(s.size * 0.1)\n",
    "    for i in range(int(w.size/2)):\n",
    "       s[i] *= w[i]\n",
    "       s[s.size-int(w.size/2)+i] *= w[int(w.size/2)+i]\n",
    "\n",
    "    plottime(s, duration)\n",
    "    if spectrogram:\n",
    "        # play with hop_length and nfft values\n",
    "        hop_length = 64\n",
    "        n_fft = 2048\n",
    "        bins_per_octave = 200\n",
    "        fmin = 2\n",
    "        fmax = 1024\n",
    "\n",
    "        fig, ax = plt.subplots()\n",
    "        #D = librosa.amplitude_to_db(np.abs(librosa.stft(s, hop_length=hop_length)), ref=np.max)\n",
    "        D = np.abs(librosa.stft(s, hop_length=hop_length))\n",
    "        img = librosa.display.specshow(D, y_axis='log', sr=fs,\n",
    "                                       hop_length=hop_length, x_axis='time', ax=ax, cmap='jet',\n",
    "                                       bins_per_octave=bins_per_octave, auto_aspect=False)\n",
    "        ax.set_ylim([fmin, fmax])\n",
    "        fig.colorbar(img, ax=ax, format=\"%+2.f\")\n",
    "\n",
    "    # play it\n",
    "    playable = s * (2**15 - 1) / np.max(np.abs(s))\n",
    "    if play:\n",
    "        # stop any ongoing play\n",
    "        sa.stop_all()\n",
    "        # convert to 16-bit data and play\n",
    "        sa.play_buffer(playable.astype(np.int16), 1, 2, fs)        \n",
    "\n",
    "    if save:\n",
    "        wavwrite('%d_su_%d.wav' % (f2suf1_m, f2suf1_n), fs, playable.astype(np.int16))"
   ]
  },
  {
   "cell_type": "markdown",
   "metadata": {},
   "source": [
    "## Beatings with a chirp from f to 2f\n",
    "\n",
    "We now analyze a chirp and how it beats with a constant f. The chirp has a frequency evolution going like a sigmoid from f to 2f, to enhance the primary beatings at the beginning and the secondary beatings of the mistuned octave at the end."
   ]
  },
  {
   "cell_type": "code",
   "execution_count": 9,
   "metadata": {},
   "outputs": [
    {
     "data": {
      "application/vnd.jupyter.widget-view+json": {
       "model_id": "56cc2a204988429ab85a368be27eca28",
       "version_major": 2,
       "version_minor": 0
      },
      "text/plain": [
       "interactive(children=(IntSlider(value=256, continuous_update=False, description='f1', max=1000, min=50), Float…"
      ]
     },
     "metadata": {},
     "output_type": "display_data"
    }
   ],
   "source": [
    "@interact(f1=widgets.IntSlider(min=50, max=1000, value=256, continuous_update=False),\n",
    "          duration=widgets.FloatSlider(min=5, max=60, value=41, step=1, continuous_update=False),\n",
    "          play=widgets.Checkbox(description='play', value=True),\n",
    "          save=widgets.Checkbox(description='save', value=False))\n",
    "def playchirp(f1, duration, play, save):\n",
    "    t = np.linspace(0, duration, num=int(duration * fs), endpoint=True)\n",
    "\n",
    "    # generate the signal\n",
    "    s = np.sin(2 * np.pi * f1 * t) + \\\n",
    "        ss.chirp(t, f0=0.98*f1, f1=2.04*f1, t1=duration, method='log')\n",
    "    #s = np.sin(2 * np.pi * f1 * t) + \\\n",
    "    #    np.concatenate(\n",
    "    #        (ss.chirp(np.linspace(0, 2, num=2*fs, endpoint=False),\n",
    "    #                  f0=f1, f1=1.08*f1, t1=2, method='linear'),\n",
    "    #         ss.chirp(np.linspace(2, duration, num=int((duration-2)*fs), endpoint=True),\n",
    "    #                  f0=1.08*f1, f1=2.05*f1, t1=duration, method='log', phi=180)))\n",
    "    #         ss.chirp(np.linspace(duration-2, duration, num=2*fs, endpoint=True),\n",
    "    #                  f0=1.5*f1, f1=2*f1, t1=duration, method='quadratic', vertex_zero=False)))\n",
    "\n",
    "    # apply a hanning window at the ramp up and ramp down of the signal\n",
    "    w = np.hanning(s.size * 0.01)\n",
    "    for i in range(int(w.size/2)):\n",
    "       s[i] *= w[i]\n",
    "       s[s.size-int(w.size/2)+i] *= w[int(w.size/2)+i]\n",
    "\n",
    "    plottime(s, duration)\n",
    "    if spectrogram:\n",
    "        # play with hop_length and nfft values\n",
    "        hop_length = 64\n",
    "        n_fft = 1024\n",
    "        bins_per_octave = 256\n",
    "        fmin = f1*0.9\n",
    "        fmax = f1*2.2\n",
    "\n",
    "        fig, ax = plt.subplots()\n",
    "        #D = librosa.amplitude_to_db(np.abs(librosa.stft(s, hop_length=hop_length)), ref=np.max)\n",
    "        D = np.abs(librosa.stft(s, hop_length=hop_length))\n",
    "        img = librosa.display.specshow(D, y_axis='log', sr=fs,\n",
    "                                       hop_length=hop_length, x_axis='time', ax=ax, cmap='jet',\n",
    "                                       bins_per_octave=bins_per_octave, auto_aspect=False)\n",
    "        ax.set_ylim([fmin, fmax])\n",
    "        ax.set_yticks([256, 290, 341.3, 384, 512])\n",
    "        ax.grid(True)\n",
    "        fig.colorbar(img, ax=ax, format=\"%+2.f\")\n",
    "\n",
    "    # play it\n",
    "    playable = s * (2**15 - 1) / np.max(np.abs(s))\n",
    "    if play:\n",
    "        # stop any ongoing play\n",
    "        sa.stop_all()\n",
    "        # convert to 16-bit data and play\n",
    "        sa.play_buffer(playable.astype(np.int16), 1, 2, fs)\n",
    "    \n",
    "    if save:\n",
    "        wavwrite('chirp.wav', fs, playable.astype(np.int16))"
   ]
  },
  {
   "cell_type": "code",
   "execution_count": null,
   "metadata": {},
   "outputs": [],
   "source": []
  }
 ],
 "metadata": {
  "kernelspec": {
   "display_name": "Python 3 (ipykernel)",
   "language": "python",
   "name": "python3"
  },
  "language_info": {
   "codemirror_mode": {
    "name": "ipython",
    "version": 3
   },
   "file_extension": ".py",
   "mimetype": "text/x-python",
   "name": "python",
   "nbconvert_exporter": "python",
   "pygments_lexer": "ipython3",
   "version": "3.9.13"
  }
 },
 "nbformat": 4,
 "nbformat_minor": 4
}
