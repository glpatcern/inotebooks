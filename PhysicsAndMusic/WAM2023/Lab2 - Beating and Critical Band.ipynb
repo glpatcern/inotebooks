{
 "cells": [
  {
   "cell_type": "markdown",
   "metadata": {},
   "source": [
    "<img src=\"wam_banner_2023.png\" width=\"700\"/>\n",
    "\n",
    "# Lab 2. Beating and the Critical Band\n",
    "\n",
    "In this lab we explore the _critical band_ by generating beatings between pure signals having frequencies $f_1$ and $f_2$, where $f_1 - f_2$ is in the order of a few Hz.\n",
    "\n",
    "Note how beatings may also be perceived when $f_1 \\simeq k f_2$ within few Hz, for $k = p/q$ and $p,q$ small integers. Which audio/amplifying devices are you using on your PC?"
   ]
  },
  {
   "cell_type": "code",
   "execution_count": 2,
   "metadata": {},
   "outputs": [],
   "source": [
    "import numpy as np\n",
    "import scipy.signal as ss\n",
    "import matplotlib.pyplot as plt\n",
    "from math import log10, log\n",
    "from ipywidgets import interact\n",
    "import ipywidgets as widgets\n",
    "import simpleaudio as sa\n",
    "fs = 44100"
   ]
  },
  {
   "cell_type": "code",
   "execution_count": 3,
   "metadata": {},
   "outputs": [],
   "source": [
    "def plottime(s, duration):\n",
    "    # plot the time series of the signal s\n",
    "    plt.subplots(figsize=(25, 5)) \n",
    "    ax = plt.subplot(1, 1, 1)\n",
    "    plt.plot(np.real(s))\n",
    "    plt.xlim(0)\n",
    "    ax.set_xlabel('t [ms]')\n",
    "    maxx = int(duration*10 + 1)*100\n",
    "    ax.set_xticks(np.arange(0, maxx*fs/1000, maxx*fs/10000, dtype=int))\n",
    "    ax.set_xticklabels(np.arange(0, maxx, maxx/10, dtype=int))\n",
    "    plt.grid(which='major')\n",
    "    plt.title(\"Wave packet\")"
   ]
  },
  {
   "cell_type": "code",
   "execution_count": 4,
   "metadata": {},
   "outputs": [
    {
     "data": {
      "application/vnd.jupyter.widget-view+json": {
       "model_id": "5ff883683f964cf8b3a1c15ccb50fbfa",
       "version_major": 2,
       "version_minor": 0
      },
      "text/plain": [
       "interactive(children=(IntSlider(value=440, continuous_update=False, description='f1', max=1760, min=55), Float…"
      ]
     },
     "metadata": {},
     "output_type": "display_data"
    }
   ],
   "source": [
    "@interact(f1=widgets.IntSlider(min=55, max=1760, value=440, continuous_update=False),\n",
    "          deltaf=widgets.FloatSlider(min=-200, max=200, value=0, step=0.5, continuous_update=False),\n",
    "          duration=widgets.FloatSlider(min=0.01, max=6, value=1, step=0.01, continuous_update=False),\n",
    "          play=widgets.Checkbox(description='play', value=True)\n",
    "         )\n",
    "def playwavelets(f1, deltaf, duration, play):\n",
    "    f2 = f1 + deltaf\n",
    "    if f2 < 20:\n",
    "        f2 = 20\n",
    "    t = np.linspace(0, duration, int(duration * fs), False)\n",
    "\n",
    "    # generate the signal\n",
    "    s = np.sin(2 * np.pi * f1 * t) + np.sin(2 * np.pi * f2 * t)\n",
    "\n",
    "    # apply a hanning window at the ramp up and ramp down of the signal\n",
    "    w = np.hanning(s.size * 0.2)\n",
    "    for i in range(int(w.size/2)):\n",
    "       s[i] *= w[i]\n",
    "       s[s.size-int(w.size/2)+i] *= w[int(w.size/2)+i]\n",
    "\n",
    "    # play it\n",
    "    if play:\n",
    "        playable = s * (2**15 - 1) / np.max(np.abs(s))\n",
    "        # stop any ongoing play\n",
    "        sa.stop_all()\n",
    "        # convert to 16-bit data and play\n",
    "        sa.play_buffer(playable.astype(np.int16), 1, 2, fs)        \n",
    "        \n",
    "    plottime(s, duration)"
   ]
  },
  {
   "cell_type": "code",
   "execution_count": 5,
   "metadata": {},
   "outputs": [
    {
     "data": {
      "application/vnd.jupyter.widget-view+json": {
       "model_id": "0e7515920af841f6a64034352add43d1",
       "version_major": 2,
       "version_minor": 0
      },
      "text/plain": [
       "interactive(children=(IntSlider(value=262, continuous_update=False, description='f1', max=1760, min=55), Float…"
      ]
     },
     "metadata": {},
     "output_type": "display_data"
    }
   ],
   "source": [
    "@interact(f1=widgets.IntSlider(min=55, max=1760, value=262, continuous_update=False),\n",
    "          f2=widgets.FloatSlider(min=55, max=1760, value=393, step=0.5, continuous_update=False),\n",
    "          duration=widgets.FloatSlider(min=0.01, max=6, value=1, step=0.01, continuous_update=False),\n",
    "          play=widgets.Checkbox(description='play', value=True)\n",
    "         )\n",
    "def playwavelets(f1, f2, duration, play):\n",
    "    t = np.linspace(0, duration, int(duration * fs), False)\n",
    "\n",
    "    # generate the signal\n",
    "    s = np.sin(2 * np.pi * f1 * t) + np.sin(2 * np.pi * f2 * t)\n",
    "\n",
    "    #if f1 == f2:\n",
    "    #    f = np.full(int(duration * fs), f1)\n",
    "    #else:\n",
    "    #    #f = np.arange(f1, f2, (f2-f1) * 1.0 / int(duration * fs))    # linear chirp\n",
    "    #    f = f1 * np.exp(t * log(f2/f1) / duration)    # exponential chirp, \"linear perception\"\n",
    "    #s = np.sin(2 * np.pi * f * t)\n",
    "\n",
    "    # apply a hanning window at the ramp up and ramp down of the signal\n",
    "    w = np.hanning(s.size * 0.2)\n",
    "    for i in range(int(w.size/2)):\n",
    "       s[i] *= w[i]\n",
    "       s[s.size-int(w.size/2)+i] *= w[int(w.size/2)+i]\n",
    "\n",
    "    # play it\n",
    "    if play:\n",
    "        playable = s * (2**15 - 1) / np.max(np.abs(s))\n",
    "        # stop any ongoing play\n",
    "        sa.stop_all()\n",
    "        # convert to 16-bit data and play\n",
    "        sa.play_buffer(playable.astype(np.int16), 1, 2, fs)        \n",
    "        \n",
    "    plottime(s, duration)"
   ]
  },
  {
   "cell_type": "code",
   "execution_count": null,
   "metadata": {},
   "outputs": [],
   "source": []
  }
 ],
 "metadata": {
  "kernelspec": {
   "display_name": "Python 3 (ipykernel)",
   "language": "python",
   "name": "python3"
  },
  "language_info": {
   "codemirror_mode": {
    "name": "ipython",
    "version": 3
   },
   "file_extension": ".py",
   "mimetype": "text/x-python",
   "name": "python",
   "nbconvert_exporter": "python",
   "pygments_lexer": "ipython3",
   "version": "3.9.13"
  }
 },
 "nbformat": 4,
 "nbformat_minor": 4
}
