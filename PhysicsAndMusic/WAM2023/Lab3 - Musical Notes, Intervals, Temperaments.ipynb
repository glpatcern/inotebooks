{
 "cells": [
  {
   "cell_type": "markdown",
   "id": "5b8d96d7",
   "metadata": {},
   "source": [
    "# Musical notes and intervals, consonances and dissonances, temperaments\n",
    "\n",
    "Code to explore dyadic intervals and their degree of consonance, triads and tetrads, as well as different temperaments."
   ]
  },
  {
   "cell_type": "code",
   "execution_count": 6,
   "id": "55c02fcc",
   "metadata": {},
   "outputs": [],
   "source": [
    "from math import log, exp\n",
    "import numpy as np\n",
    "import scipy.signal as ss\n",
    "import matplotlib.pyplot as plt\n",
    "from matplotlib.ticker import LogFormatter, FormatStrFormatter\n",
    "from ipywidgets import interact, interactive_output\n",
    "from IPython.display import display as wdisplay\n",
    "import ipywidgets as widgets\n",
    "import harmony\n",
    "# $matplotlib"
   ]
  },
  {
   "cell_type": "code",
   "execution_count": 7,
   "id": "18e2f84e",
   "metadata": {},
   "outputs": [
    {
     "data": {
      "text/plain": [
       "(0.9872312095616033, 0.08983148809661412, 0.9836321050882914)"
      ]
     },
     "execution_count": 7,
     "metadata": {},
     "output_type": "execute_result"
    }
   ],
   "source": [
    "# initialization\n",
    "plt.rc('figure', figsize=(20, 10))\n",
    "harmony.init()\n",
    "k_harp = 0.45\n",
    "midiin = None\n",
    "\n",
    "# roughness model: this is the CR_alfa with mistuned 8th and 5th data computed with Mathematica and exported to a file\n",
    "harmony.roughness[1.0], harmony.roughness[1.1], harmony.roughness[2.0]"
   ]
  },
  {
   "cell_type": "code",
   "execution_count": 8,
   "id": "10ee40e1",
   "metadata": {},
   "outputs": [],
   "source": [
    "# Prepare UI\n",
    "def leftlayout(degree):\n",
    "    return widgets.Layout(left='-%d%%' % degree)\n",
    "\n",
    "def genUI_P():\n",
    "    w_phys_label = widgets.HTML(value='<b><center>Physical parameters</center></b>')\n",
    "    w_duration = widgets.FloatSlider(min=0.1, max=6, value=2, step=0.1, continuous_update=False, description='Duration [s]')\n",
    "    w_harmonics = widgets.IntSlider(min=1, max=20, value=5, continuous_update=False, description='no. Harmonics',\n",
    "                                    style={'description_width': 'initial'})\n",
    "    w_h_model = widgets.RadioButtons(options=harmony.h_models, description='Harm. model')\n",
    "    w_k_harp = widgets.FloatSlider(min=0.01, max=0.5, value=k_harp, step=0.01, continuous_update=False, description='k_harp')\n",
    "    w_addcb = widgets.Checkbox(description='Add common bass')\n",
    "    w_miscb = widgets.IntSlider(min=0, max=5, value=0, continuous_update=False, description='Mistuned c.b. [Hz]',\n",
    "                                style={'description_width': 'initial'})\n",
    "    w_miscb.layout.visibility = 'hidden'\n",
    "    w_k_harp.layout.visibility = 'hidden'\n",
    "    w_spectrogram = widgets.Checkbox(description='Show Spectrogram')\n",
    "\n",
    "    def handle_h_model(change):\n",
    "        w_k_harp.layout.visibility = 'visible' if change['new'] == 'harp' else 'hidden'\n",
    "\n",
    "    def handle_addcb(change):\n",
    "        w_miscb.layout.visibility = 'visible' if change['new'] else 'hidden'\n",
    "\n",
    "    w_h_model.observe(handle_h_model, names='value')\n",
    "    w_addcb.observe(handle_addcb, names='value')\n",
    "\n",
    "    return widgets.VBox([w_phys_label, w_duration, w_harmonics, w_h_model, w_k_harp, w_addcb, w_miscb, w_spectrogram],\n",
    "                        layout=leftlayout(20)), {\n",
    "        'duration': w_duration,\n",
    "        'harmonics': w_harmonics,\n",
    "        'h_model': w_h_model,\n",
    "        'k_harp': w_k_harp,\n",
    "        'addcb': w_addcb,\n",
    "        'miscb': w_miscb,\n",
    "        'spectrogram': w_spectrogram,\n",
    "    }\n",
    "\n",
    "def genUI_M():\n",
    "    w_mus_label = widgets.HTML(value='<b>&nbsp; &nbsp; &nbsp; Musical parameters</b>')\n",
    "    w_temperament = widgets.RadioButtons(options=harmony.temperaments, description='Temperament')\n",
    "    w_tonic = widgets.IntSlider(min=-11, max=62, value=0, continuous_update=False, description='Tonic')\n",
    "    w_interval = widgets.IntSlider(min=0, max=62, value=7, continuous_update=False, description='Interval')\n",
    "    w_c_int2 = widgets.Checkbox(description='Interval 2', layout=leftlayout(20))\n",
    "    w_interval2 = widgets.IntSlider(min=1, max=62, value=4, continuous_update=False, layout=leftlayout(30))\n",
    "    return widgets.VBox([w_mus_label, w_temperament, w_tonic, w_interval,\n",
    "                         widgets.HBox([w_c_int2, w_interval2], layout=widgets.Layout(width='70%', align_content='stretch'))\n",
    "                       ]), {\n",
    "        'temperament': w_temperament,\n",
    "        'tonic': w_tonic,\n",
    "        'int1': w_interval,\n",
    "        'c_int2': w_c_int2,\n",
    "        'int2': w_interval2\n",
    "       }\n",
    "\n",
    "def genUI_MC12():\n",
    "    w_mus_label = widgets.HTML(value='<b><center>Musical parameters</center></b>', layout=leftlayout(30))\n",
    "    w_temperament12 = widgets.RadioButtons(options=[t for t in harmony.temperaments if '12' in t], description='Temperament')\n",
    "    w_tonic = widgets.IntSlider(min=-11, max=11, value=0, continuous_update=False, description='Tonic')\n",
    "    w_c_III = widgets.Checkbox(description='III', layout=leftlayout(12))\n",
    "    w_III = widgets.IntSlider(min=2, max=5, value=4, continuous_update=False, layout=leftlayout(40))\n",
    "    w_c_V = widgets.Checkbox(description='V', layout=leftlayout(12))\n",
    "    w_V = widgets.IntSlider(min=5, max=8, value=7, continuous_update=False, layout=leftlayout(40))\n",
    "    w_c_VII = widgets.Checkbox(description='VII', layout=leftlayout(12))\n",
    "    w_VII = widgets.IntSlider(min=8, max=12, value=10, continuous_update=False, layout=leftlayout(40))\n",
    "    w_c_IX = widgets.Checkbox(description='IX', layout=leftlayout(12))\n",
    "    w_IX = widgets.IntSlider(min=13, max=19, value=14, continuous_update=False, layout=leftlayout(40))\n",
    "    return widgets.VBox([w_mus_label, w_temperament12, w_tonic, widgets.HBox([w_c_III, w_III]),\n",
    "                         widgets.HBox([w_c_V, w_V]), widgets.HBox([w_c_VII, w_VII]), widgets.HBox([w_c_IX, w_IX])\n",
    "                        ]), {\n",
    "        'temperament': w_temperament12,\n",
    "        'tonic': w_tonic,\n",
    "        'c_III': w_c_III,\n",
    "        'III': w_III,\n",
    "        'c_V': w_c_V,\n",
    "        'V': w_V,\n",
    "        'c_VII': w_c_VII,\n",
    "        'VII': w_VII,\n",
    "        'c_IX': w_c_IX,\n",
    "        'IX': w_IX\n",
    "    }\n",
    "\n",
    "def genUI_MC():\n",
    "    w_mus_label = widgets.HTML(value='<b><center>Musical parameters</center></b>', layout=leftlayout(20))\n",
    "    w_temperament = widgets.RadioButtons(options=harmony.temperaments, description='Temperament')\n",
    "    w_tonic = widgets.IntSlider(min=-11, max=62, value=0, continuous_update=False, description='Tonic')\n",
    "    w_interval = widgets.IntSlider(min=0, max=62, value=7, continuous_update=False, description='Interval')\n",
    "    w_chord = widgets.RadioButtons(options=harmony.ChordsCollection.chords, value='maj1',\n",
    "                                   description='Chord', layout=leftlayout(15))\n",
    "    return widgets.VBox([w_mus_label, widgets.HBox([widgets.VBox([w_temperament, w_tonic]), w_chord])\n",
    "                        ]), {\n",
    "        'temperament': w_temperament,\n",
    "        'tonic': w_tonic,\n",
    "        'chord': w_chord\n",
    "    }\n",
    "\n",
    "def genUI_MMidi():\n",
    "    w_mus_label = widgets.HTML(value='<b><center>Musical parameters</center></b>')\n",
    "    w_temperament = widgets.RadioButtons(options=harmony.temperaments, description='Temperament')\n",
    "    return widgets.VBox([w_mus_label, w_temperament]), {\n",
    "        'temperament': w_temperament,\n",
    "    }\n",
    "\n",
    "w_out = widgets.Output(layout=widgets.Layout(width='75%', left='25%'))\n",
    "@w_out.capture()\n",
    "def captureoutput(obj, method, *args):\n",
    "    w_out.clear_output(wait=True)\n",
    "    return getattr(obj, method)(*args)"
   ]
  },
  {
   "cell_type": "markdown",
   "id": "1b419a41",
   "metadata": {},
   "source": [
    "## Dyads, triads, and more standard chords"
   ]
  },
  {
   "cell_type": "code",
   "execution_count": 9,
   "id": "6f8ab56d",
   "metadata": {
    "scrolled": false
   },
   "outputs": [
    {
     "data": {
      "application/vnd.jupyter.widget-view+json": {
       "model_id": "cb1c21612b1c4ca8833b840f1bf35efa",
       "version_major": 2,
       "version_minor": 0
      },
      "text/plain": [
       "VBox(children=(HBox(children=(VBox(children=(HTML(value='<b>&nbsp; &nbsp; &nbsp; Musical parameters</b>'), Rad…"
      ]
     },
     "metadata": {},
     "output_type": "display_data"
    },
    {
     "data": {
      "application/vnd.jupyter.widget-view+json": {
       "model_id": "265262ef5d5f4dffb4da68a4ad3d623f",
       "version_major": 2,
       "version_minor": 0
      },
      "text/plain": [
       "Output()"
      ]
     },
     "metadata": {},
     "output_type": "display_data"
    }
   ],
   "source": [
    "def interactive_dyads_triads(temperament, tonic, int1, c_int2, int2, duration, harmonics,\n",
    "                             h_model, k_harp, addcb, miscb, spectrogram):\n",
    "    if not addcb:\n",
    "        miscb = 0\n",
    "    elif miscb == 0:\n",
    "        miscb = -1\n",
    "    c = harmony.IChord(temperament, tonic, duration, harmonics, False, h_model, k_harp, miscb)\n",
    "    # generate signal for the given interval\n",
    "    if int1 == 0:\n",
    "        s = c.note(tonic)\n",
    "        d = 0\n",
    "    elif not c_int2:\n",
    "        s, d = captureoutput(c, 'dichord', int1)\n",
    "    else:\n",
    "        s, d = captureoutput(c, 'triad', int1, int2)\n",
    "    c.play(s)\n",
    "    c.plottimefreq(s, spectrogram)\n",
    "\n",
    "    #c.save(s, 'interval%02d.wav' % tonic)     # harmonics = 10, h_model = harp-verotta for the test sounds\n",
    "    # wait for playback to finish before exiting\n",
    "    #p.wait_done()\n",
    "\n",
    "uiM = genUI_M()\n",
    "uiP = genUI_P()\n",
    "ui = widgets.VBox([widgets.HBox([uiM[0], uiP[0]], layout=widgets.Layout(justify_content='center')), w_out])\n",
    "interactive = interactive_output(interactive_dyads_triads, uiM[1] | uiP[1])\n",
    "wdisplay(ui, interactive)"
   ]
  },
  {
   "cell_type": "code",
   "execution_count": 5,
   "id": "006ac0d9",
   "metadata": {
    "scrolled": false
   },
   "outputs": [
    {
     "data": {
      "application/vnd.jupyter.widget-view+json": {
       "model_id": "7afa762eeb8748b8b2b8731570321cf6",
       "version_major": 2,
       "version_minor": 0
      },
      "text/plain": [
       "VBox(children=(HBox(children=(VBox(children=(HTML(value='<b><center>Musical parameters</center></b>', layout=L…"
      ]
     },
     "metadata": {},
     "output_type": "display_data"
    },
    {
     "data": {
      "application/vnd.jupyter.widget-view+json": {
       "model_id": "5035c44b21fb4a38a07ba36fa4976edc",
       "version_major": 2,
       "version_minor": 0
      },
      "text/plain": [
       "Output()"
      ]
     },
     "metadata": {},
     "output_type": "display_data"
    }
   ],
   "source": [
    "def interactive_standard_12chords(temperament, tonic, c_III, III, c_V, V, c_VII, VII, c_IX, IX,\n",
    "                                  duration, harmonics, h_model, k_harp, addcb, miscb, spectrogram):\n",
    "    if not addcb:\n",
    "        miscb = 0\n",
    "    elif miscb == 0:\n",
    "        miscb = -1\n",
    "    c = harmony.IChord(temperament, tonic, duration, harmonics, False, h_model, k_harp, miscb)\n",
    "    # generate signal for the given chord\n",
    "    intervals = []\n",
    "    if c_III:\n",
    "        intervals += [III]\n",
    "    if c_V:\n",
    "        intervals += [V]\n",
    "    if c_VII:\n",
    "        intervals += [VII]\n",
    "    if c_IX:\n",
    "        intervals += [IX]\n",
    "    if len(intervals) > 0:\n",
    "        s, d = captureoutput(c, 'cluster', intervals)\n",
    "    else:\n",
    "        s = c.note(tonic)\n",
    "        d = 0\n",
    "    c.play(s)\n",
    "    c.plottimefreq(s, spectrogram)\n",
    "\n",
    "    # wait for playback to finish before exiting\n",
    "    #p.wait_done()\n",
    "\n",
    "uiM = genUI_MC12()\n",
    "uiP = genUI_P()\n",
    "ui = widgets.VBox([widgets.HBox([uiM[0], uiP[0]], layout=widgets.Layout(justify_content='center')), w_out])\n",
    "interactive = interactive_output(interactive_standard_12chords, uiM[1] | uiP[1])\n",
    "wdisplay(ui, interactive)"
   ]
  },
  {
   "cell_type": "code",
   "execution_count": null,
   "id": "7f04c727",
   "metadata": {
    "scrolled": false
   },
   "outputs": [],
   "source": [
    "# The support for >12-tone temperaments is limited\n",
    "def interactive_named_chords(temperament, tonic, chord, duration, harmonics, h_model, k_harp, addcb, miscb, spectrogram):\n",
    "    if not addcb:\n",
    "        miscb = 0\n",
    "    elif miscb == 0:\n",
    "        miscb = -1\n",
    "    if spectrogram:\n",
    "        duration = 1    # override to have a meaningful plot\n",
    "    c = harmony.ChordsCollection(temperament, tonic, duration, harmonics, False, h_model, k_harp, addcb)\n",
    "    # generate signal for the given chord\n",
    "    s, d = captureoutput(c, chord)\n",
    "    c.play(s)\n",
    "    c.plottimefreq(s, spectrogram)\n",
    "\n",
    "    # wait for playback to finish before exiting\n",
    "    #p.wait_done()\n",
    "\n",
    "uiM = genUI_MC()\n",
    "uiP = genUI_P()\n",
    "ui = widgets.VBox([widgets.HBox([uiM[0], uiP[0]], layout=widgets.Layout(justify_content='center')), w_out])\n",
    "interactive = interactive_output(interactive_named_chords, uiM[1] | uiP[1])\n",
    "wdisplay(ui, interactive)"
   ]
  }
 ],
 "metadata": {
  "kernelspec": {
   "display_name": "Python 3 (ipykernel)",
   "language": "python",
   "name": "python3"
  },
  "language_info": {
   "codemirror_mode": {
    "name": "ipython",
    "version": 3
   },
   "file_extension": ".py",
   "mimetype": "text/x-python",
   "name": "python",
   "nbconvert_exporter": "python",
   "pygments_lexer": "ipython3",
   "version": "3.9.13"
  }
 },
 "nbformat": 4,
 "nbformat_minor": 5
}
