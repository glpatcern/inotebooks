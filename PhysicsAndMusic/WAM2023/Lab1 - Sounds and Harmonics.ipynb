{
 "cells": [
  {
   "cell_type": "markdown",
   "id": "3b81c9a9",
   "metadata": {},
   "source": [
    "<img src=\"wam_banner_2023.png\" width=\"700\"/>"
   ]
  },
  {
   "cell_type": "markdown",
   "id": "3aa26fd0",
   "metadata": {},
   "source": [
    "# Lab 1. Sounds and Harmonics\n",
    "\n",
    "In this lab we will produce some sounds with their harmonics, in order to study their acoustic effects"
   ]
  },
  {
   "cell_type": "code",
   "execution_count": 1,
   "id": "85c662f7",
   "metadata": {},
   "outputs": [],
   "source": [
    "import numpy as np\n",
    "import matplotlib.pyplot as plt\n",
    "import scipy.signal as ss\n",
    "from math import pi, sin\n",
    "from random import random\n",
    "from matplotlib.ticker import LogFormatter\n",
    "import simpleaudio as sa\n",
    "import ipywidgets as widgets\n",
    "fs = 44100        # 44100 samples per second\n",
    "samples = 2**16   # for the FFT"
   ]
  },
  {
   "cell_type": "markdown",
   "id": "36dc9a53",
   "metadata": {},
   "source": [
    "Let's define a function to map the harmonic index (1 = fundamental, 2 = II harmonic, etc.) to the relative amplitude, according to different models.\n",
    "For the _harp_ model, we use the coefficients derived in the first lesson:\n",
    "\n",
    "$$C_n \\propto \\frac{1}{n^2} \\sin(n \\pi k), \\quad k \\in \\ ]0, 0.5]$$\n",
    "\n",
    "Where $k$ represents where the string is pinched, from the edge (0) to the middle (0.5) of the string. "
   ]
  },
  {
   "cell_type": "code",
   "execution_count": 2,
   "id": "b2070fe4",
   "metadata": {},
   "outputs": [],
   "source": [
    "def htoamp(h, model, k=0.5):\n",
    "    if model == 'flat':\n",
    "        return 1\n",
    "    if model == 'harp':\n",
    "        return 1 / h ** 2 * sin(h * pi * k)\n",
    "    if model == 'even':\n",
    "        return 1 / h ** (2 if h % 2 > 0 else 1.1)   # even harmonics decade faster\n",
    "    if model == 'odd':\n",
    "        return 1 / h ** (2 if h % 2 == 0 else 1.1)    # odd harmonics decade faster\n",
    "    if model == 'verotta':\n",
    "        return 1 / h\n",
    "    if model == 'sethares':\n",
    "        return 0.8**h\n",
    "    return 0"
   ]
  },
  {
   "cell_type": "code",
   "execution_count": 28,
   "id": "0273d7c1",
   "metadata": {},
   "outputs": [
    {
     "data": {
      "text/plain": [
       "3.6739403974420594e-16"
      ]
     },
     "execution_count": 28,
     "metadata": {},
     "output_type": "execute_result"
    }
   ],
   "source": [
    "htoamp(1, 'harp', 3)"
   ]
  },
  {
   "cell_type": "code",
   "execution_count": 3,
   "id": "594a7f05",
   "metadata": {},
   "outputs": [],
   "source": [
    "class Chord:\n",
    "    def __init__(self, f, duration, harmonics, nonharm, onlyharm, nofundamental, h_model, k_harp):\n",
    "        self.f = f\n",
    "        self.duration = duration\n",
    "        self.harmonics = harmonics\n",
    "        self.onlyharm = onlyharm\n",
    "        self.nofundamental = nofundamental\n",
    "        self.nonharm = nonharm\n",
    "        self.h_model = h_model\n",
    "        self.k_harp = k_harp\n",
    "    \n",
    "    def note(self):\n",
    "        '''Generate a numpy array for a given note index or frequency, where n = 0 means DO4.\n",
    "        If onlyharm = True, generates only the harmonics.'''\n",
    "        # generate array with duration*sample_rate steps, ranging between 0 and duration\n",
    "        t = np.linspace(0, self.duration, int(self.duration * fs), False)\n",
    "\n",
    "        if self.onlyharm:\n",
    "            # generate only the requested harmonic\n",
    "            w = np.sin(2 * np.pi * self.f * self.harmonics * t) * htoamp(self.harmonics, self.h_model, self.k_harp)\n",
    "            return w\n",
    "\n",
    "        # generate the fundamental wave. The damping is such that at t=duration, amplitude is about 0.3.\n",
    "        w = (0 if self.nofundamental else 1) * np.sin(2 * np.pi * self.f * t) * htoamp(1, self.h_model, self.k_harp) * \\\n",
    "            (1 if 'harp' not in self.h_model else np.exp(- t * 1.2 / self.duration))\n",
    "        # add the harmonics with given weights\n",
    "        if self.harmonics > 1:\n",
    "            for h in range(self.harmonics-1):   # h = 0..harmonics-2\n",
    "                w += np.sin(2 * np.pi * self.f * (h+2) * (1+self.nonharm*random()) * t) * htoamp(h+2, self.h_model, self.k_harp) * \\\n",
    "                     (1 if 'harp' not in self.h_model else np.exp(- t * (h+2) * 1.2 / self.duration))\n",
    "        \n",
    "        return w\n",
    "\n",
    "\n",
    "    def play(self, audio):\n",
    "        '''Play a given signal to the audio card'''\n",
    "        # ensure that highest value is in 16-bit range\n",
    "        playable = audio * (2**15 - 1) / np.max(np.abs(audio))\n",
    "        if self.onlyharm:\n",
    "            # scale down so to hear the effect of the scaled single harmonic\n",
    "            playable *= htoamp(self.harmonics, self.h_model, self.k_harp)\n",
    "        # stop any ongoing play\n",
    "        #sa.stop_all()\n",
    "        # convert to 16-bit data and play\n",
    "        return sa.play_buffer(playable.astype(np.int16), 1, 2, fs)\n",
    "\n",
    "    def plottimefreq(self, s):\n",
    "        # plot the time series\n",
    "        plt.subplots(figsize=(15, 5)) \n",
    "        ax = plt.subplot(1, 2, 1)\n",
    "        plt.plot(s)\n",
    "        plt.xlim(0)\n",
    "        ax.set_xlabel('t [ms]')\n",
    "        maxx = int(self.duration*10 + 1)*100\n",
    "        ax.set_xticks(np.arange(0, maxx*fs/1000, maxx*fs/10000, dtype=int))\n",
    "        ax.set_xticklabels(np.arange(0, maxx, maxx/10, dtype=int))\n",
    "        plt.grid(which='major')\n",
    "        plt.title(\"Wave packet\")\n",
    "\n",
    "        # also compute and plot power spectrum\n",
    "        ax = plt.subplot(1, 2, 2)\n",
    "        s = np.pad(s, (0, samples-s.size), mode='constant')\n",
    "        W = np.abs(np.fft.fft(s) ** 2)\n",
    "        f = np.fft.fftfreq(s.size, 1/fs)\n",
    "        plt.plot(f, W)\n",
    "        plt.xlim(20, 15000)\n",
    "        #formatter = LogFormatter(labelOnlyBase=False, minor_thresholds=(1, 0.1))\n",
    "        #ax.get_xaxis().set_minor_formatter(formatter)\n",
    "        ax.set_xlabel('f [Hz]')\n",
    "        plt.ylim(1E-2)\n",
    "        plt.xscale('log')\n",
    "        plt.yscale('log')\n",
    "        plt.grid(which='both')\n",
    "        plt.title(\"Power spectrum (log/log)\")\n",
    "        plt.show()\n"
   ]
  },
  {
   "cell_type": "code",
   "execution_count": 4,
   "id": "2a287b52",
   "metadata": {
    "scrolled": false
   },
   "outputs": [
    {
     "data": {
      "application/vnd.jupyter.widget-view+json": {
       "model_id": "4f35d75b1e2c4892a71ac7400eac361d",
       "version_major": 2,
       "version_minor": 0
      },
      "text/plain": [
       "interactive(children=(IntSlider(value=220, continuous_update=False, description='frequency', max=500, min=100)…"
      ]
     },
     "metadata": {},
     "output_type": "display_data"
    }
   ],
   "source": [
    "@widgets.interact(\n",
    "    frequency=widgets.IntSlider(min=100, max=500, value=220, continuous_update=False),\n",
    "    duration=widgets.FloatSlider(min=0.01, max=1.48, value=0.7, step=0.01, continuous_update=False),\n",
    "    harmonics=widgets.IntSlider(min=1, max=30, value=0, continuous_update=False),\n",
    "    nonharm=widgets.FloatSlider(min=0, max=1, value=0, step=0.01, continuous_update=False),\n",
    "    only_harm=widgets.Checkbox(description='only harmonic',value=False),\n",
    "    no_fundamental=widgets.Checkbox(description='no fundamental',value=False),\n",
    "    h_model=widgets.RadioButtons(options=['flat', 'harp']),\n",
    "    k_harp=widgets.FloatSlider(min=0.01, max=0.5, value=0.5, step=0.01, continuous_update=False),\n",
    "    window=widgets.RadioButtons(options=['rect', 'gaussian'])\n",
    "    )\n",
    "def interactiveplay(frequency, duration, harmonics, nonharm, only_harm, no_fundamental, h_model, k_harp, window):\n",
    "    # generate signal for the given chord\n",
    "    c = Chord(frequency, duration, harmonics, nonharm, only_harm, no_fundamental, h_model, k_harp)\n",
    "    s = c.note()\n",
    "    # use a window to smooth begin and end\n",
    "    if window == 'hanning':\n",
    "        s *= np.hanning(s.size)\n",
    "    elif window == 'gaussian':\n",
    "        s *= ss.gaussian(s.size, 5000*duration)\n",
    "    c.plottimefreq(s)\n",
    "    c.play(s)"
   ]
  },
  {
   "cell_type": "code",
   "execution_count": null,
   "id": "5de94479",
   "metadata": {},
   "outputs": [],
   "source": []
  }
 ],
 "metadata": {
  "kernelspec": {
   "display_name": "Python 3 (ipykernel)",
   "language": "python",
   "name": "python3"
  },
  "language_info": {
   "codemirror_mode": {
    "name": "ipython",
    "version": 3
   },
   "file_extension": ".py",
   "mimetype": "text/x-python",
   "name": "python",
   "nbconvert_exporter": "python",
   "pygments_lexer": "ipython3",
   "version": "3.9.13"
  }
 },
 "nbformat": 4,
 "nbformat_minor": 5
}
