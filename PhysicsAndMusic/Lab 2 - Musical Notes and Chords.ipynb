{
 "cells": [
  {
   "cell_type": "markdown",
   "metadata": {},
   "source": [
    "## 2. Musical notes and harmonics, chords, consonances and dissonances\n",
    "\n",
    "\n"
   ]
  },
  {
   "cell_type": "code",
   "execution_count": 6,
   "metadata": {},
   "outputs": [],
   "source": [
    "import numpy as np\n",
    "import matplotlib.pyplot as plt\n",
    "import scipy.signal as ss\n",
    "from matplotlib.ticker import LogFormatter\n",
    "import simpleaudio as sa\n",
    "from ipywidgets import interact\n",
    "import ipywidgets as widgets"
   ]
  },
  {
   "cell_type": "code",
   "execution_count": 7,
   "metadata": {
    "scrolled": true
   },
   "outputs": [
    {
     "data": {
      "text/plain": [
       "[261.6255653005986,\n",
       " 277.1826309768721,\n",
       " 293.6647679174076,\n",
       " 311.1269837220809,\n",
       " 329.6275569128699,\n",
       " 349.2282314330039,\n",
       " 369.9944227116344,\n",
       " 391.99543598174927,\n",
       " 415.3046975799451,\n",
       " 440.0,\n",
       " 466.1637615180899,\n",
       " 493.8833012561241]"
      ]
     },
     "execution_count": 7,
     "metadata": {},
     "output_type": "execute_result"
    }
   ],
   "source": [
    "fs = 44100  # 44100 samples per second\n",
    "LA = 440    # LA4\n",
    "fnote = [LA/2 * 2**(i/12) for i in range(3, 15)]\n",
    "fnote"
   ]
  },
  {
   "cell_type": "code",
   "execution_count": 8,
   "metadata": {},
   "outputs": [],
   "source": [
    "class Chord:\n",
    "    def __init__(self, tonic, duration, harmonics):\n",
    "        self.tonic = tonic\n",
    "        self.duration = duration\n",
    "        self.harmonics = harmonics\n",
    "\n",
    "    def _notetofr(self, i):\n",
    "        return fnote[i % 12] * (1 + int(i / 12)) * (0.5 if i < 0 else 1)\n",
    "    \n",
    "    def _harmtoampl(self, h):\n",
    "        return 1 / (h+1) ** (4 if h % 2 > 0 else 2)\n",
    "\n",
    "    def note(self, f):\n",
    "        '''Generate a np array for a given note index or frequency (duration is an external constant),\n",
    "        # where n = 0 means DO3. If f is a float, then it is directly used as a frequency'''\n",
    "        # generate array with duration*sample_rate steps, ranging between 0 and duration\n",
    "        t = np.linspace(0, self.duration, int(self.duration * fs), False)\n",
    "        # get the note's frequency\n",
    "        if isinstance(f, int):\n",
    "            f = self._notetofr(f)\n",
    "\n",
    "        # generate the fundamental wave\n",
    "        w = np.sin(2 * np.pi * f * t)\n",
    "        # add the harmonics with given weights\n",
    "        for h in range(self.harmonics):\n",
    "            w += np.sin(2 * np.pi * f * (h+2) * t) * self._harmtoampl(h+1)\n",
    "\n",
    "        return w\n",
    "\n",
    "    def dichord(self, interval):\n",
    "        return self.note(self.tonic) + self.note(self.tonic + interval)\n",
    "    \n",
    "    def Tartini(self, interval):\n",
    "        return self.note(self._notetofr(self.tonic + interval) - self._notetofr(self.tonic))\n",
    "    \n",
    "    def _3chord(self, int1, int2):\n",
    "        return self.note(self.tonic) + self.note(self.tonic + int1) + self.note(self.tonic + int1 + int2)\n",
    "\n",
    "    def maj(self):\n",
    "        return self._3chord(4, 3)\n",
    "\n",
    "    def min(self):\n",
    "        return self._3chord(3, 4)\n",
    "\n",
    "    def sus(self):\n",
    "        return self._3chord(5, 2)\n",
    "\n",
    "    def Vaug(self):\n",
    "        return self._3chord(4, 4)\n",
    "\n",
    "    def Vdim(self):\n",
    "        return self._3chord(3, 3)\n",
    "\n",
    "    def add7(self):\n",
    "        return self.note(self.tonic + 4+3+3)\n",
    "\n",
    "    def add7maj(self):\n",
    "        return self.note(self.tonic + 4+3+4)\n",
    "\n",
    "    def VII(self):\n",
    "        return self.maj() + self.add7()\n",
    "    \n",
    "    def VIImaj(self):\n",
    "        return self.maj() + self.add7maj()\n",
    "\n",
    "    def minVII(self):\n",
    "        return self.min() + self.add7()\n",
    "\n",
    "    def minVIImaj(self):\n",
    "        return self.min() + self.add7maj()\n",
    "\n",
    "    def add9(self):\n",
    "        return self.note(self.tonic + 4+3+3+4)\n",
    "\n",
    "    def IX(self):\n",
    "        return self.VII() + self.add9()\n",
    "\n",
    "    def IXmaj(self):\n",
    "        return self.VIImaj() + self.add9()\n"
   ]
  },
  {
   "cell_type": "code",
   "execution_count": 9,
   "metadata": {},
   "outputs": [],
   "source": [
    "def play(audio):\n",
    "    # ensure that highest value is in 16-bit range\n",
    "    playable = audio * (2**15 - 1) / np.max(np.abs(audio))\n",
    "    # stop any ongoing play\n",
    "    #sa.stop_all()\n",
    "    # convert to 16-bit data and play\n",
    "    return sa.play_buffer(playable.astype(np.int16), 1, 2, fs)"
   ]
  },
  {
   "cell_type": "code",
   "execution_count": 10,
   "metadata": {},
   "outputs": [],
   "source": [
    "def plottimefreq(s, duration):\n",
    "    # plot the time series\n",
    "    plt.subplots(figsize=(15, 5)) \n",
    "    ax = plt.subplot(1, 2, 1)\n",
    "    plt.plot(np.real(s))\n",
    "    plt.xlim(0)\n",
    "    ax.set_xlabel('t [ms]')\n",
    "    maxx = int(duration*10 + 1)*100\n",
    "    ax.set_xticks(np.arange(0, maxx*fs/1000, maxx*fs/10000, dtype=int))\n",
    "    ax.set_xticklabels(np.arange(0, maxx, maxx/10, dtype=int))\n",
    "    plt.grid(which='major')\n",
    "    plt.title(\"Wave packet\")\n",
    "\n",
    "    # also compute and plot power spectrum\n",
    "    ax = plt.subplot(1, 2, 2)\n",
    "    s = np.pad(s, (0, 65536-s.size), mode='constant')\n",
    "    W = np.abs(np.fft.fft(s) ** 2)\n",
    "    f = np.fft.fftfreq(s.size, 1/(2*fs))\n",
    "    plt.plot(f, W)\n",
    "    plt.xlim(20, 15000)\n",
    "    #formatter = LogFormatter(labelOnlyBase=False, minor_thresholds=(1, 0.1))\n",
    "    #ax.get_xaxis().set_minor_formatter(formatter)\n",
    "    ax.set_xlabel('f [Hz]')\n",
    "    plt.ylim(1E-4)\n",
    "    plt.xscale('log')\n",
    "    plt.yscale('log')\n",
    "    plt.grid(which='both')\n",
    "    plt.title(\"Power spectrum (log/log)\")\n",
    "    plt.show()\n"
   ]
  },
  {
   "cell_type": "code",
   "execution_count": 11,
   "metadata": {
    "scrolled": false
   },
   "outputs": [
    {
     "data": {
      "application/vnd.jupyter.widget-view+json": {
       "model_id": "aba0d5d65dd846b9ab95edfd6257085c",
       "version_major": 2,
       "version_minor": 0
      },
      "text/plain": [
       "interactive(children=(IntSlider(value=0, continuous_update=False, description='tonic', max=11, min=-11), IntSl…"
      ]
     },
     "metadata": {},
     "output_type": "display_data"
    }
   ],
   "source": [
    "@interact(tonic=widgets.IntSlider(min=-11, max=11, value=0, continuous_update=False),\n",
    "          interval=widgets.IntSlider(min=0, max=12, value=0, continuous_update=False),\n",
    "          Tartini=widgets.RadioButtons(options=['no', 'only', 'add']),\n",
    "          duration=widgets.FloatSlider(min=0.01, max=1.48, value=0.6, step=0.01, continuous_update=False),\n",
    "          harmonics=widgets.IntSlider(min=0, max=5, value=0, continuous_update=False),\n",
    "          window=widgets.RadioButtons(options=['hanning', 'rect', 'gaussian'])\n",
    "         )\n",
    "def interactiveplay(tonic, interval, Tartini, duration, harmonics, window):\n",
    "    # generate signal for the given chord\n",
    "    c = Chord(tonic, duration, harmonics)\n",
    "    if interval > 0:\n",
    "        if Tartini != 'no':\n",
    "            t = c.Tartini(interval)\n",
    "        if Tartini == 'add':\n",
    "            s = c.dichord(interval) + t\n",
    "        elif Tartini == 'only':\n",
    "            s = t\n",
    "        else:\n",
    "            s = c.dichord(interval) \n",
    "    else:\n",
    "        s = c.dichord(interval)\n",
    "    # use a window to smooth begin and end\n",
    "    if window == 'hanning':\n",
    "        s *= np.hanning(s.size)\n",
    "    elif window == 'gaussian':\n",
    "        s *= ss.gaussian(s.size, 5000*duration)\n",
    "    plottimefreq(s, duration)\n",
    "    play(s)\n",
    "    # wait for playback to finish before exiting\n",
    "    #p.wait_done()"
   ]
  },
  {
   "cell_type": "code",
   "execution_count": 12,
   "metadata": {
    "scrolled": false
   },
   "outputs": [
    {
     "data": {
      "application/vnd.jupyter.widget-view+json": {
       "model_id": "3348719014bc49ddae1f047a98238ebf",
       "version_major": 2,
       "version_minor": 0
      },
      "text/plain": [
       "interactive(children=(IntSlider(value=0, continuous_update=False, description='tonic', max=11), RadioButtons(d…"
      ]
     },
     "metadata": {},
     "output_type": "display_data"
    }
   ],
   "source": [
    "tonic = 0\n",
    "h = 1\n",
    "duration = 1.5\n",
    "\n",
    "@interact(tonic=widgets.IntSlider(min=0, max=11, value=0, continuous_update=False),\n",
    "          chord=widgets.RadioButtons(options=['maj', 'min', 'sus', 'Vaug', 'Vdim', 'VII', 'VIImaj', 'minVII', 'minVIImaj', 'IX', 'IXmaj']),\n",
    "          duration=widgets.FloatSlider(min=0.01, max=1.48, value=0.6, step=0.01, continuous_update=False),\n",
    "          harmonics=widgets.IntSlider(min=0, max=5, value=0, continuous_update=False))\n",
    "def interactiveplay(tonic, chord, duration, harmonics):\n",
    "    c = Chord(tonic, duration, harmonics)\n",
    "    s = getattr(c, chord)()\n",
    "    s *= np.hanning(s.size)\n",
    "    plottimefreq(s, duration)\n",
    "    play(s)"
   ]
  },
  {
   "cell_type": "markdown",
   "metadata": {},
   "source": [
    "### Uncertainty: practical case\n",
    "\n",
    "We can assess the psico-acustic effects of the uncertainty by correlating the *critical band* with the shortest duration of a sound for it to be perceived with a defined pitch. The critical band for a frequency $f$ can be approximated with [ https://en.wikipedia.org/wiki/Critical_band ]:\n",
    "\n",
    "$$CB = 24.7 \\cdot (4.37 f / 1000 + 1)$$\n",
    "\n",
    "For example, for a sound of 100 Hz, the critical band is about 35 Hz. Therefore, a 100 Hz sound must have a bandwidth $2\\sigma_f \\le$ 35 Hz in order to have a clearly distinguishable pitch (e.g. from another sound). The uncertainty suggests that the pitch nevertheless becomes undefined if the sound duration $2\\sigma_t \\le 2 / (4\\pi \\cdot \\sigma_f) \\simeq$ 90 ms. Higher frequency sounds have a larger critical band, therefore the duration limit would be even shorter. In practice, our hears have intrinsic limitations that enters into play at about the same levels of resolution if not lower.\n"
   ]
  },
  {
   "cell_type": "code",
   "execution_count": null,
   "metadata": {},
   "outputs": [],
   "source": []
  }
 ],
 "metadata": {
  "kernelspec": {
   "display_name": "Python 3",
   "language": "python",
   "name": "python3"
  },
  "language_info": {
   "codemirror_mode": {
    "name": "ipython",
    "version": 3
   },
   "file_extension": ".py",
   "mimetype": "text/x-python",
   "name": "python",
   "nbconvert_exporter": "python",
   "pygments_lexer": "ipython3",
   "version": "3.7.6"
  }
 },
 "nbformat": 4,
 "nbformat_minor": 5
}
